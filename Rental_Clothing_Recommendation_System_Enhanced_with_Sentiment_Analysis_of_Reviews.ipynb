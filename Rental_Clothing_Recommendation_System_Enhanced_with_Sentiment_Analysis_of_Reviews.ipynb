{
  "nbformat": 4,
  "nbformat_minor": 0,
  "metadata": {
    "kernelspec": {
      "display_name": "Python 3",
      "language": "python",
      "name": "python3"
    },
    "language_info": {
      "codemirror_mode": {
        "name": "ipython",
        "version": 3
      },
      "file_extension": ".py",
      "mimetype": "text/x-python",
      "name": "python",
      "nbconvert_exporter": "python",
      "pygments_lexer": "ipython3",
      "version": "3.7.4"
    },
    "colab": {
      "name": "Rental Clothing Recommendation System Enhanced with Sentiment Analysis of Reviews.ipynb",
      "provenance": [],
      "collapsed_sections": [
        "pGNmy6tqMnv2",
        "aeZ7W2EfMnv2",
        "RR7H2dOFMnv-",
        "ML_Ft3x_Mnv_"
      ],
      "include_colab_link": true
    },
    "accelerator": "TPU"
  },
  "cells": [
    {
      "cell_type": "markdown",
      "metadata": {
        "id": "view-in-github",
        "colab_type": "text"
      },
      "source": [
        "<a href=\"https://colab.research.google.com/github/Thirumagal-Vani/My-Projects/blob/main/Rental_Clothing_Recommendation_System_Enhanced_with_Sentiment_Analysis_of_Reviews.ipynb\" target=\"_parent\"><img src=\"https://colab.research.google.com/assets/colab-badge.svg\" alt=\"Open In Colab\"/></a>"
      ]
    },
    {
      "cell_type": "code",
      "metadata": {
        "id": "lAvLCqQpMnva"
      },
      "source": [
        "# Importing required libraries.\n",
        "\n",
        "import pandas as pd\n",
        "import numpy as np\n",
        "import csv\n",
        "import json\n",
        "import re\n",
        "import seaborn as sns\n",
        "import matplotlib.pyplot as plt"
      ],
      "execution_count": 1,
      "outputs": []
    },
    {
      "cell_type": "code",
      "metadata": {
        "colab": {
          "base_uri": "https://localhost:8080/"
        },
        "id": "k9FwtlGgM-Uc",
        "outputId": "da123f1a-da26-4994-9267-99e34d5c683a"
      },
      "source": [
        "from google.colab import drive\n",
        "drive.mount('/content/drive')"
      ],
      "execution_count": 2,
      "outputs": [
        {
          "output_type": "stream",
          "text": [
            "Drive already mounted at /content/drive; to attempt to forcibly remount, call drive.mount(\"/content/drive\", force_remount=True).\n"
          ],
          "name": "stdout"
        }
      ]
    },
    {
      "cell_type": "code",
      "metadata": {
        "id": "3jhYsjTIMnvd"
      },
      "source": [
        "# Reading data\n",
        "\n",
        "data=pd.read_json('/content/drive/My Drive/Colab Notebooks/renttherunway_final_data.json', lines=True)"
      ],
      "execution_count": 3,
      "outputs": []
    },
    {
      "cell_type": "code",
      "metadata": {
        "id": "V6ADyEEGMnve"
      },
      "source": [
        "data_original=data.copy"
      ],
      "execution_count": 4,
      "outputs": []
    },
    {
      "cell_type": "code",
      "metadata": {
        "colab": {
          "base_uri": "https://localhost:8080/",
          "height": 306
        },
        "id": "p4p0blGLMnvf",
        "outputId": "a6247e2b-f8b7-4546-97da-bce163458bba"
      },
      "source": [
        "data.head()"
      ],
      "execution_count": 5,
      "outputs": [
        {
          "output_type": "execute_result",
          "data": {
            "text/html": [
              "<div>\n",
              "<style scoped>\n",
              "    .dataframe tbody tr th:only-of-type {\n",
              "        vertical-align: middle;\n",
              "    }\n",
              "\n",
              "    .dataframe tbody tr th {\n",
              "        vertical-align: top;\n",
              "    }\n",
              "\n",
              "    .dataframe thead th {\n",
              "        text-align: right;\n",
              "    }\n",
              "</style>\n",
              "<table border=\"1\" class=\"dataframe\">\n",
              "  <thead>\n",
              "    <tr style=\"text-align: right;\">\n",
              "      <th></th>\n",
              "      <th>fit</th>\n",
              "      <th>user_id</th>\n",
              "      <th>bust size</th>\n",
              "      <th>item_id</th>\n",
              "      <th>weight</th>\n",
              "      <th>rating</th>\n",
              "      <th>rented for</th>\n",
              "      <th>review_text</th>\n",
              "      <th>body type</th>\n",
              "      <th>review_summary</th>\n",
              "      <th>category</th>\n",
              "      <th>height</th>\n",
              "      <th>size</th>\n",
              "      <th>age</th>\n",
              "      <th>review_date</th>\n",
              "    </tr>\n",
              "  </thead>\n",
              "  <tbody>\n",
              "    <tr>\n",
              "      <th>0</th>\n",
              "      <td>fit</td>\n",
              "      <td>420272</td>\n",
              "      <td>34d</td>\n",
              "      <td>2260466</td>\n",
              "      <td>137lbs</td>\n",
              "      <td>10.0</td>\n",
              "      <td>vacation</td>\n",
              "      <td>An adorable romper! Belt and zipper were a lit...</td>\n",
              "      <td>hourglass</td>\n",
              "      <td>So many compliments!</td>\n",
              "      <td>romper</td>\n",
              "      <td>5' 8\"</td>\n",
              "      <td>14</td>\n",
              "      <td>28.0</td>\n",
              "      <td>April 20, 2016</td>\n",
              "    </tr>\n",
              "    <tr>\n",
              "      <th>1</th>\n",
              "      <td>fit</td>\n",
              "      <td>273551</td>\n",
              "      <td>34b</td>\n",
              "      <td>153475</td>\n",
              "      <td>132lbs</td>\n",
              "      <td>10.0</td>\n",
              "      <td>other</td>\n",
              "      <td>I rented this dress for a photo shoot. The the...</td>\n",
              "      <td>straight &amp; narrow</td>\n",
              "      <td>I felt so glamourous!!!</td>\n",
              "      <td>gown</td>\n",
              "      <td>5' 6\"</td>\n",
              "      <td>12</td>\n",
              "      <td>36.0</td>\n",
              "      <td>June 18, 2013</td>\n",
              "    </tr>\n",
              "    <tr>\n",
              "      <th>2</th>\n",
              "      <td>fit</td>\n",
              "      <td>360448</td>\n",
              "      <td>NaN</td>\n",
              "      <td>1063761</td>\n",
              "      <td>NaN</td>\n",
              "      <td>10.0</td>\n",
              "      <td>party</td>\n",
              "      <td>This hugged in all the right places! It was a ...</td>\n",
              "      <td>NaN</td>\n",
              "      <td>It was a great time to celebrate the (almost) ...</td>\n",
              "      <td>sheath</td>\n",
              "      <td>5' 4\"</td>\n",
              "      <td>4</td>\n",
              "      <td>116.0</td>\n",
              "      <td>December 14, 2015</td>\n",
              "    </tr>\n",
              "    <tr>\n",
              "      <th>3</th>\n",
              "      <td>fit</td>\n",
              "      <td>909926</td>\n",
              "      <td>34c</td>\n",
              "      <td>126335</td>\n",
              "      <td>135lbs</td>\n",
              "      <td>8.0</td>\n",
              "      <td>formal affair</td>\n",
              "      <td>I rented this for my company's black tie award...</td>\n",
              "      <td>pear</td>\n",
              "      <td>Dress arrived on time and in perfect condition.</td>\n",
              "      <td>dress</td>\n",
              "      <td>5' 5\"</td>\n",
              "      <td>8</td>\n",
              "      <td>34.0</td>\n",
              "      <td>February 12, 2014</td>\n",
              "    </tr>\n",
              "    <tr>\n",
              "      <th>4</th>\n",
              "      <td>fit</td>\n",
              "      <td>151944</td>\n",
              "      <td>34b</td>\n",
              "      <td>616682</td>\n",
              "      <td>145lbs</td>\n",
              "      <td>10.0</td>\n",
              "      <td>wedding</td>\n",
              "      <td>I have always been petite in my upper body and...</td>\n",
              "      <td>athletic</td>\n",
              "      <td>Was in love with this dress !!!</td>\n",
              "      <td>gown</td>\n",
              "      <td>5' 9\"</td>\n",
              "      <td>12</td>\n",
              "      <td>27.0</td>\n",
              "      <td>September 26, 2016</td>\n",
              "    </tr>\n",
              "  </tbody>\n",
              "</table>\n",
              "</div>"
            ],
            "text/plain": [
              "   fit  user_id bust size  item_id  ... height  size    age         review_date\n",
              "0  fit   420272       34d  2260466  ...  5' 8\"    14   28.0      April 20, 2016\n",
              "1  fit   273551       34b   153475  ...  5' 6\"    12   36.0       June 18, 2013\n",
              "2  fit   360448       NaN  1063761  ...  5' 4\"     4  116.0   December 14, 2015\n",
              "3  fit   909926       34c   126335  ...  5' 5\"     8   34.0   February 12, 2014\n",
              "4  fit   151944       34b   616682  ...  5' 9\"    12   27.0  September 26, 2016\n",
              "\n",
              "[5 rows x 15 columns]"
            ]
          },
          "metadata": {
            "tags": []
          },
          "execution_count": 5
        }
      ]
    },
    {
      "cell_type": "code",
      "metadata": {
        "colab": {
          "base_uri": "https://localhost:8080/"
        },
        "id": "gihX4GgoMnvf",
        "outputId": "7b3476cb-4a2e-40cf-fda9-3cfaac69b0f7"
      },
      "source": [
        "data.shape"
      ],
      "execution_count": 6,
      "outputs": [
        {
          "output_type": "execute_result",
          "data": {
            "text/plain": [
              "(192544, 15)"
            ]
          },
          "metadata": {
            "tags": []
          },
          "execution_count": 6
        }
      ]
    },
    {
      "cell_type": "code",
      "metadata": {
        "colab": {
          "base_uri": "https://localhost:8080/"
        },
        "id": "dMFYWgJpMnvg",
        "outputId": "efaab121-f0be-4824-a72d-1cf2421e69d2"
      },
      "source": [
        "# Checking for Null values in data\n",
        "data.isnull().sum()"
      ],
      "execution_count": 7,
      "outputs": [
        {
          "output_type": "execute_result",
          "data": {
            "text/plain": [
              "fit                   0\n",
              "user_id               0\n",
              "bust size         18411\n",
              "item_id               0\n",
              "weight            29982\n",
              "rating               82\n",
              "rented for           10\n",
              "review_text           0\n",
              "body type         14637\n",
              "review_summary        0\n",
              "category              0\n",
              "height              677\n",
              "size                  0\n",
              "age                 960\n",
              "review_date           0\n",
              "dtype: int64"
            ]
          },
          "metadata": {
            "tags": []
          },
          "execution_count": 7
        }
      ]
    },
    {
      "cell_type": "code",
      "metadata": {
        "colab": {
          "base_uri": "https://localhost:8080/"
        },
        "id": "pE2KvlFdMnvg",
        "outputId": "41c12cd8-1fb1-47f4-84ed-f8fc85a115d1"
      },
      "source": [
        "data.isnull().sum()/len(data)"
      ],
      "execution_count": 8,
      "outputs": [
        {
          "output_type": "execute_result",
          "data": {
            "text/plain": [
              "fit               0.000000\n",
              "user_id           0.000000\n",
              "bust size         0.095620\n",
              "item_id           0.000000\n",
              "weight            0.155715\n",
              "rating            0.000426\n",
              "rented for        0.000052\n",
              "review_text       0.000000\n",
              "body type         0.076019\n",
              "review_summary    0.000000\n",
              "category          0.000000\n",
              "height            0.003516\n",
              "size              0.000000\n",
              "age               0.004986\n",
              "review_date       0.000000\n",
              "dtype: float64"
            ]
          },
          "metadata": {
            "tags": []
          },
          "execution_count": 8
        }
      ]
    },
    {
      "cell_type": "markdown",
      "metadata": {
        "id": "NVv63spSeUBE"
      },
      "source": [
        "# Exploratory Data Analysis"
      ]
    },
    {
      "cell_type": "markdown",
      "metadata": {
        "id": "sJ0-ACUGMnvh"
      },
      "source": [
        "## Height"
      ]
    },
    {
      "cell_type": "code",
      "metadata": {
        "colab": {
          "base_uri": "https://localhost:8080/"
        },
        "id": "4VWElWw1Mnvh",
        "outputId": "58b3047b-818c-4db6-b1f0-44f328e60d66"
      },
      "source": [
        "data['height'].unique() "
      ],
      "execution_count": 9,
      "outputs": [
        {
          "output_type": "execute_result",
          "data": {
            "text/plain": [
              "array(['5\\' 8\"', '5\\' 6\"', '5\\' 4\"', '5\\' 5\"', '5\\' 9\"', '5\\' 3\"',\n",
              "       '5\\' 2\"', '5\\' 7\"', '5\\' 1\"', '5\\' 10\"', '6\\' 0\"', '4\\' 10\"',\n",
              "       '6\\' 1\"', '5\\' 11\"', '5\\' 0\"', nan, '4\\' 11\"', '4\\' 8\"', '6\\' 2\"',\n",
              "       '6\\' 3\"', '4\\' 9\"', '4\\' 6\"', '6\\' 4\"', '4\\' 7\"', '6\\' 6\"'],\n",
              "      dtype=object)"
            ]
          },
          "metadata": {
            "tags": []
          },
          "execution_count": 9
        }
      ]
    },
    {
      "cell_type": "code",
      "metadata": {
        "colab": {
          "base_uri": "https://localhost:8080/"
        },
        "id": "Ww_al0CCMnvh",
        "outputId": "d1be2cb8-23e4-4681-96b2-77ecb93b0483"
      },
      "source": [
        "data['height'].nunique() "
      ],
      "execution_count": 10,
      "outputs": [
        {
          "output_type": "execute_result",
          "data": {
            "text/plain": [
              "24"
            ]
          },
          "metadata": {
            "tags": []
          },
          "execution_count": 10
        }
      ]
    },
    {
      "cell_type": "code",
      "metadata": {
        "id": "e0AmHgBuMnvi"
      },
      "source": [
        "# Dropping null in heights\n",
        "\n",
        "data=data[(data['height'].isnull() == False)]"
      ],
      "execution_count": 11,
      "outputs": []
    },
    {
      "cell_type": "code",
      "metadata": {
        "colab": {
          "base_uri": "https://localhost:8080/"
        },
        "id": "H_PZc3qxMnvi",
        "outputId": "3583b5da-69cf-42d8-ebe5-ef3f6202aa82"
      },
      "source": [
        "data.height.isnull().sum()"
      ],
      "execution_count": 12,
      "outputs": [
        {
          "output_type": "execute_result",
          "data": {
            "text/plain": [
              "0"
            ]
          },
          "metadata": {
            "tags": []
          },
          "execution_count": 12
        }
      ]
    },
    {
      "cell_type": "code",
      "metadata": {
        "colab": {
          "base_uri": "https://localhost:8080/"
        },
        "id": "QjkxX1IxMnvj",
        "outputId": "8953ce2d-e635-43e5-9a99-ebe34b0ae854"
      },
      "source": [
        "data['height'].head()"
      ],
      "execution_count": 13,
      "outputs": [
        {
          "output_type": "execute_result",
          "data": {
            "text/plain": [
              "0    5' 8\"\n",
              "1    5' 6\"\n",
              "2    5' 4\"\n",
              "3    5' 5\"\n",
              "4    5' 9\"\n",
              "Name: height, dtype: object"
            ]
          },
          "metadata": {
            "tags": []
          },
          "execution_count": 13
        }
      ]
    },
    {
      "cell_type": "code",
      "metadata": {
        "id": "bp8-5AvJMnvj"
      },
      "source": [
        "reg_ex = re.compile(r\"([0-9]+)' ([0-9]*\\.?[0-9]+)\\\"\")\n",
        "def get_inches(value):\n",
        "    res = reg_ex.match(value)\n",
        "    if res == None:\n",
        "        return float('NaN')\n",
        "    else:\n",
        "        return int(res.group(1))*12 + float(res.group(2))"
      ],
      "execution_count": 14,
      "outputs": []
    },
    {
      "cell_type": "code",
      "metadata": {
        "colab": {
          "base_uri": "https://localhost:8080/"
        },
        "id": "jrIX6lZOMnvj",
        "outputId": "9802da92-998c-4866-9346-897fd845eda0"
      },
      "source": [
        "data['height']=data['height'].apply(get_inches)"
      ],
      "execution_count": 15,
      "outputs": [
        {
          "output_type": "stream",
          "text": [
            "/usr/local/lib/python3.7/dist-packages/ipykernel_launcher.py:1: SettingWithCopyWarning: \n",
            "A value is trying to be set on a copy of a slice from a DataFrame.\n",
            "Try using .loc[row_indexer,col_indexer] = value instead\n",
            "\n",
            "See the caveats in the documentation: https://pandas.pydata.org/pandas-docs/stable/user_guide/indexing.html#returning-a-view-versus-a-copy\n",
            "  \"\"\"Entry point for launching an IPython kernel.\n"
          ],
          "name": "stderr"
        }
      ]
    },
    {
      "cell_type": "code",
      "metadata": {
        "colab": {
          "base_uri": "https://localhost:8080/"
        },
        "id": "r4PPHktPMnvk",
        "outputId": "e72790dd-de7f-48c6-8581-26573e273701"
      },
      "source": [
        "data.shape"
      ],
      "execution_count": 16,
      "outputs": [
        {
          "output_type": "execute_result",
          "data": {
            "text/plain": [
              "(191867, 15)"
            ]
          },
          "metadata": {
            "tags": []
          },
          "execution_count": 16
        }
      ]
    },
    {
      "cell_type": "code",
      "metadata": {
        "colab": {
          "base_uri": "https://localhost:8080/"
        },
        "id": "zuyk2-FZMnvk",
        "outputId": "3b17b2aa-60d9-4fb8-b38d-a41c93873d68"
      },
      "source": [
        "data['height'].sort_values()"
      ],
      "execution_count": 17,
      "outputs": [
        {
          "output_type": "execute_result",
          "data": {
            "text/plain": [
              "34979     54.0\n",
              "20248     54.0\n",
              "24093     54.0\n",
              "134994    54.0\n",
              "108198    54.0\n",
              "          ... \n",
              "30994     76.0\n",
              "58181     76.0\n",
              "41222     76.0\n",
              "184349    78.0\n",
              "55014     78.0\n",
              "Name: height, Length: 191867, dtype: float64"
            ]
          },
          "metadata": {
            "tags": []
          },
          "execution_count": 17
        }
      ]
    },
    {
      "cell_type": "markdown",
      "metadata": {
        "id": "9KISGPTyMnvk"
      },
      "source": [
        "## Age"
      ]
    },
    {
      "cell_type": "code",
      "metadata": {
        "colab": {
          "base_uri": "https://localhost:8080/"
        },
        "id": "qmiux5JDMnvk",
        "outputId": "31978ca4-06cb-4261-b58e-e3d8161db423"
      },
      "source": [
        "data['age'].dtype"
      ],
      "execution_count": 18,
      "outputs": [
        {
          "output_type": "execute_result",
          "data": {
            "text/plain": [
              "dtype('float64')"
            ]
          },
          "metadata": {
            "tags": []
          },
          "execution_count": 18
        }
      ]
    },
    {
      "cell_type": "code",
      "metadata": {
        "colab": {
          "base_uri": "https://localhost:8080/"
        },
        "id": "5VtWC-K0Mnvl",
        "outputId": "e75d1b07-e1dc-4e3e-85c2-43036a9fc894"
      },
      "source": [
        "data['age'].min()"
      ],
      "execution_count": 19,
      "outputs": [
        {
          "output_type": "execute_result",
          "data": {
            "text/plain": [
              "0.0"
            ]
          },
          "metadata": {
            "tags": []
          },
          "execution_count": 19
        }
      ]
    },
    {
      "cell_type": "code",
      "metadata": {
        "colab": {
          "base_uri": "https://localhost:8080/"
        },
        "id": "4wS6hnujMnvm",
        "outputId": "e2903dbd-dcb2-4be0-e16c-a2b54eb2c983"
      },
      "source": [
        "data['age'].max()"
      ],
      "execution_count": 20,
      "outputs": [
        {
          "output_type": "execute_result",
          "data": {
            "text/plain": [
              "117.0"
            ]
          },
          "metadata": {
            "tags": []
          },
          "execution_count": 20
        }
      ]
    },
    {
      "cell_type": "code",
      "metadata": {
        "colab": {
          "base_uri": "https://localhost:8080/"
        },
        "id": "jw3jHIITMnvm",
        "outputId": "79dca8d8-c900-47c5-9fb2-15894fbddac3"
      },
      "source": [
        "age_mode=data['age'].mode()\n",
        "age_mode"
      ],
      "execution_count": 21,
      "outputs": [
        {
          "output_type": "execute_result",
          "data": {
            "text/plain": [
              "0    31.0\n",
              "dtype: float64"
            ]
          },
          "metadata": {
            "tags": []
          },
          "execution_count": 21
        }
      ]
    },
    {
      "cell_type": "code",
      "metadata": {
        "colab": {
          "base_uri": "https://localhost:8080/"
        },
        "id": "gUCkURkgMnvm",
        "outputId": "81200853-ca8c-4332-8b26-6bb9e11e1689"
      },
      "source": [
        "data.loc[:,('age')]=data.loc[:,('age')].fillna(age_mode)"
      ],
      "execution_count": 22,
      "outputs": [
        {
          "output_type": "stream",
          "text": [
            "/usr/local/lib/python3.7/dist-packages/pandas/core/indexing.py:1743: SettingWithCopyWarning: \n",
            "A value is trying to be set on a copy of a slice from a DataFrame.\n",
            "Try using .loc[row_indexer,col_indexer] = value instead\n",
            "\n",
            "See the caveats in the documentation: https://pandas.pydata.org/pandas-docs/stable/user_guide/indexing.html#returning-a-view-versus-a-copy\n",
            "  isetter(ilocs[0], value)\n"
          ],
          "name": "stderr"
        }
      ]
    },
    {
      "cell_type": "code",
      "metadata": {
        "colab": {
          "base_uri": "https://localhost:8080/",
          "height": 459
        },
        "id": "zvCI6AEXMnvn",
        "outputId": "2ee3ba2a-e998-4ebd-d724-c7a88f58204c"
      },
      "source": [
        "fig, ax = plt.subplots(figsize=(12,6))\n",
        "sns.boxplot(data['age'], ax=ax)"
      ],
      "execution_count": 23,
      "outputs": [
        {
          "output_type": "stream",
          "text": [
            "/usr/local/lib/python3.7/dist-packages/seaborn/_decorators.py:43: FutureWarning: Pass the following variable as a keyword arg: x. From version 0.12, the only valid positional argument will be `data`, and passing other arguments without an explicit keyword will result in an error or misinterpretation.\n",
            "  FutureWarning\n"
          ],
          "name": "stderr"
        },
        {
          "output_type": "execute_result",
          "data": {
            "text/plain": [
              "<matplotlib.axes._subplots.AxesSubplot at 0x7f7997ded610>"
            ]
          },
          "metadata": {
            "tags": []
          },
          "execution_count": 23
        },
        {
          "output_type": "display_data",
          "data": {
            "image/png": "[encoded data removed]",
            "text/plain": [
              "<Figure size 864x432 with 1 Axes>"
            ]
          },
          "metadata": {
            "tags": [],
            "needs_background": "light"
          }
        }
      ]
    },
    {
      "cell_type": "code",
      "metadata": {
        "id": "wGthhoM9Mnvn"
      },
      "source": [
        "# Selecting Age range 18 to 50 only\n",
        "data=data[(data['age'] >= 18.0) & (data['age'] <= 50.0)]"
      ],
      "execution_count": 24,
      "outputs": []
    },
    {
      "cell_type": "code",
      "metadata": {
        "colab": {
          "base_uri": "https://localhost:8080/"
        },
        "id": "hqJ8ygC0Mnvn",
        "outputId": "963a9717-cb22-467e-f391-401bab6b5a4d"
      },
      "source": [
        "data.shape"
      ],
      "execution_count": 25,
      "outputs": [
        {
          "output_type": "execute_result",
          "data": {
            "text/plain": [
              "(181787, 15)"
            ]
          },
          "metadata": {
            "tags": []
          },
          "execution_count": 25
        }
      ]
    },
    {
      "cell_type": "code",
      "metadata": {
        "colab": {
          "base_uri": "https://localhost:8080/"
        },
        "id": "cjyEicN4Mnvo",
        "outputId": "7471bee7-f9f2-4643-b14e-b7d8073f2fcc"
      },
      "source": [
        "data.isnull().sum()"
      ],
      "execution_count": 26,
      "outputs": [
        {
          "output_type": "execute_result",
          "data": {
            "text/plain": [
              "fit                   0\n",
              "user_id               0\n",
              "bust size         17323\n",
              "item_id               0\n",
              "weight            28081\n",
              "rating               74\n",
              "rented for           10\n",
              "review_text           0\n",
              "body type         13333\n",
              "review_summary        0\n",
              "category              0\n",
              "height                0\n",
              "size                  0\n",
              "age                   0\n",
              "review_date           0\n",
              "dtype: int64"
            ]
          },
          "metadata": {
            "tags": []
          },
          "execution_count": 26
        }
      ]
    },
    {
      "cell_type": "markdown",
      "metadata": {
        "id": "4uxi8EApMnvo"
      },
      "source": [
        "## Weight"
      ]
    },
    {
      "cell_type": "code",
      "metadata": {
        "colab": {
          "base_uri": "https://localhost:8080/"
        },
        "id": "5BvyVbDhMnvo",
        "outputId": "5b360106-51f1-4fce-96f4-7310f00b2f4c"
      },
      "source": [
        "data['weight'].unique()"
      ],
      "execution_count": 27,
      "outputs": [
        {
          "output_type": "execute_result",
          "data": {
            "text/plain": [
              "array(['137lbs', '132lbs', '135lbs', '145lbs', '138lbs', '112lbs', nan,\n",
              "       '114lbs', '120lbs', '142lbs', '118lbs', '140lbs', '170lbs',\n",
              "       '143lbs', '115lbs', '123lbs', '122lbs', '165lbs', '130lbs',\n",
              "       '155lbs', '105lbs', '190lbs', '150lbs', '136lbs', '174lbs',\n",
              "       '125lbs', '110lbs', '160lbs', '128lbs', '180lbs', '175lbs',\n",
              "       '134lbs', '109lbs', '124lbs', '250lbs', '195lbs', '231lbs',\n",
              "       '161lbs', '126lbs', '210lbs', '215lbs', '220lbs', '163lbs',\n",
              "       '106lbs', '178lbs', '157lbs', '185lbs', '92lbs', '117lbs',\n",
              "       '146lbs', '116lbs', '141lbs', '103lbs', '121lbs', '127lbs',\n",
              "       '200lbs', '111lbs', '152lbs', '172lbs', '107lbs', '133lbs',\n",
              "       '248lbs', '154lbs', '153lbs', '131lbs', '156lbs', '129lbs',\n",
              "       '186lbs', '100lbs', '113lbs', '148lbs', '119lbs', '166lbs',\n",
              "       '144lbs', '95lbs', '234lbs', '139lbs', '230lbs', '158lbs',\n",
              "       '184lbs', '102lbs', '205lbs', '168lbs', '162lbs', '108lbs',\n",
              "       '147lbs', '98lbs', '225lbs', '204lbs', '89lbs', '159lbs', '96lbs',\n",
              "       '176lbs', '149lbs', '240lbs', '169lbs', '260lbs', '196lbs',\n",
              "       '104lbs', '173lbs', '179lbs', '101lbs', '239lbs', '182lbs',\n",
              "       '151lbs', '164lbs', '218lbs', '255lbs', '97lbs', '270lbs',\n",
              "       '187lbs', '198lbs', '90lbs', '199lbs', '235lbs', '193lbs',\n",
              "       '192lbs', '189lbs', '201lbs', '245lbs', '206lbs', '216lbs',\n",
              "       '167lbs', '188lbs', '203lbs', '209lbs', '224lbs', '265lbs',\n",
              "       '276lbs', '219lbs', '171lbs', '99lbs', '177lbs', '212lbs',\n",
              "       '211lbs', '194lbs', '280lbs', '207lbs', '208lbs', '285lbs',\n",
              "       '197lbs', '290lbs', '87lbs', '238lbs', '93lbs', '214lbs', '227lbs',\n",
              "       '50lbs', '217lbs', '94lbs', '70lbs', '88lbs', '183lbs', '300lbs',\n",
              "       '273lbs', '181lbs', '261lbs', '246lbs', '249lbs', '202lbs',\n",
              "       '241lbs', '236lbs', '256lbs', '191lbs', '237lbs', '222lbs',\n",
              "       '232lbs', '275lbs', '228lbs', '223lbs', '79lbs', '229lbs',\n",
              "       '264lbs', '269lbs', '247lbs', '226lbs', '221lbs', '91lbs',\n",
              "       '213lbs', '242lbs', '288lbs', '263lbs', '58lbs', '85lbs', '80lbs',\n",
              "       '253lbs', '233lbs', '243lbs', '271lbs', '251lbs'], dtype=object)"
            ]
          },
          "metadata": {
            "tags": []
          },
          "execution_count": 27
        }
      ]
    },
    {
      "cell_type": "code",
      "metadata": {
        "id": "ArCNqcz9Mnvo"
      },
      "source": [
        "data['weight']=data['weight'].str.replace('lbs','')"
      ],
      "execution_count": 28,
      "outputs": []
    },
    {
      "cell_type": "code",
      "metadata": {
        "colab": {
          "base_uri": "https://localhost:8080/"
        },
        "id": "9bzAUA7nMnvp",
        "outputId": "458598dd-4e03-4aa6-cd1c-432eec03c33f"
      },
      "source": [
        "data['weight'].unique()"
      ],
      "execution_count": 29,
      "outputs": [
        {
          "output_type": "execute_result",
          "data": {
            "text/plain": [
              "array(['137', '132', '135', '145', '138', '112', nan, '114', '120', '142',\n",
              "       '118', '140', '170', '143', '115', '123', '122', '165', '130',\n",
              "       '155', '105', '190', '150', '136', '174', '125', '110', '160',\n",
              "       '128', '180', '175', '134', '109', '124', '250', '195', '231',\n",
              "       '161', '126', '210', '215', '220', '163', '106', '178', '157',\n",
              "       '185', '92', '117', '146', '116', '141', '103', '121', '127',\n",
              "       '200', '111', '152', '172', '107', '133', '248', '154', '153',\n",
              "       '131', '156', '129', '186', '100', '113', '148', '119', '166',\n",
              "       '144', '95', '234', '139', '230', '158', '184', '102', '205',\n",
              "       '168', '162', '108', '147', '98', '225', '204', '89', '159', '96',\n",
              "       '176', '149', '240', '169', '260', '196', '104', '173', '179',\n",
              "       '101', '239', '182', '151', '164', '218', '255', '97', '270',\n",
              "       '187', '198', '90', '199', '235', '193', '192', '189', '201',\n",
              "       '245', '206', '216', '167', '188', '203', '209', '224', '265',\n",
              "       '276', '219', '171', '99', '177', '212', '211', '194', '280',\n",
              "       '207', '208', '285', '197', '290', '87', '238', '93', '214', '227',\n",
              "       '50', '217', '94', '70', '88', '183', '300', '273', '181', '261',\n",
              "       '246', '249', '202', '241', '236', '256', '191', '237', '222',\n",
              "       '232', '275', '228', '223', '79', '229', '264', '269', '247',\n",
              "       '226', '221', '91', '213', '242', '288', '263', '58', '85', '80',\n",
              "       '253', '233', '243', '271', '251'], dtype=object)"
            ]
          },
          "metadata": {
            "tags": []
          },
          "execution_count": 29
        }
      ]
    },
    {
      "cell_type": "code",
      "metadata": {
        "colab": {
          "base_uri": "https://localhost:8080/"
        },
        "id": "r1T2oBx-Mnvp",
        "outputId": "9efa3bdf-b6f4-4c82-f6d8-f85ace4167ac"
      },
      "source": [
        "data['weight'].nunique()"
      ],
      "execution_count": 30,
      "outputs": [
        {
          "output_type": "execute_result",
          "data": {
            "text/plain": [
              "189"
            ]
          },
          "metadata": {
            "tags": []
          },
          "execution_count": 30
        }
      ]
    },
    {
      "cell_type": "markdown",
      "metadata": {
        "id": "0ond-IaJMnvp"
      },
      "source": [
        "- **Weight Calculation using height and average adult BMI in USA**:\n",
        "- The average adult male and female in the United States has a BMI of around 29.6, according to theNational Health Statistics Reports - CDC\n",
        "\n",
        "- Reference:https://www.medicalnewstoday.com/articles/321003"
      ]
    },
    {
      "cell_type": "code",
      "metadata": {
        "id": "qVQRYT4_Mnvq"
      },
      "source": [
        "\n",
        "def weight_calculator(row):\n",
        "    w = row['weight']\n",
        "    h = row['height']\n",
        "    if pd.isnull(w):\n",
        "        weight=(29.6/703)*pow(h,2)\n",
        "        return (str(int(weight)))\n",
        "    else:\n",
        "        return w"
      ],
      "execution_count": 31,
      "outputs": []
    },
    {
      "cell_type": "code",
      "metadata": {
        "id": "BNg22xjfMnvq"
      },
      "source": [
        "new = data.apply(weight_calculator, axis = 1)\n",
        "data['weight']=new"
      ],
      "execution_count": 32,
      "outputs": []
    },
    {
      "cell_type": "code",
      "metadata": {
        "scrolled": true,
        "colab": {
          "base_uri": "https://localhost:8080/"
        },
        "id": "JQMP5Yy7Mnvq",
        "outputId": "788c9a3e-d09b-4e49-e8fe-9261f3b160d6"
      },
      "source": [
        "data.isnull().sum()"
      ],
      "execution_count": 33,
      "outputs": [
        {
          "output_type": "execute_result",
          "data": {
            "text/plain": [
              "fit                   0\n",
              "user_id               0\n",
              "bust size         17323\n",
              "item_id               0\n",
              "weight                0\n",
              "rating               74\n",
              "rented for           10\n",
              "review_text           0\n",
              "body type         13333\n",
              "review_summary        0\n",
              "category              0\n",
              "height                0\n",
              "size                  0\n",
              "age                   0\n",
              "review_date           0\n",
              "dtype: int64"
            ]
          },
          "metadata": {
            "tags": []
          },
          "execution_count": 33
        }
      ]
    },
    {
      "cell_type": "code",
      "metadata": {
        "colab": {
          "base_uri": "https://localhost:8080/"
        },
        "id": "MlhDKLDSMnvq",
        "outputId": "3d8c2ff9-dd18-407e-c1a1-48374c990079"
      },
      "source": [
        "data['weight'].unique()"
      ],
      "execution_count": 34,
      "outputs": [
        {
          "output_type": "execute_result",
          "data": {
            "text/plain": [
              "array(['137', '132', '135', '145', '138', '112', '183', '114', '120',\n",
              "       '142', '118', '140', '170', '143', '115', '177', '200', '123',\n",
              "       '122', '167', '165', '194', '130', '155', '105', '190', '150',\n",
              "       '136', '174', '125', '161', '110', '160', '128', '180', '175',\n",
              "       '134', '109', '124', '189', '250', '195', '231', '172', '126',\n",
              "       '210', '215', '220', '163', '156', '106', '178', '157', '185',\n",
              "       '151', '92', '117', '206', '146', '116', '141', '103', '121',\n",
              "       '127', '111', '152', '218', '107', '133', '248', '154', '153',\n",
              "       '131', '129', '186', '100', '113', '148', '119', '166', '144',\n",
              "       '95', '212', '224', '234', '139', '230', '158', '184', '102',\n",
              "       '205', '168', '162', '108', '147', '98', '225', '204', '89', '159',\n",
              "       '96', '176', '149', '240', '169', '260', '196', '104', '173',\n",
              "       '179', '101', '239', '182', '164', '255', '97', '270', '187',\n",
              "       '198', '90', '199', '235', '193', '192', '201', '245', '216',\n",
              "       '188', '203', '209', '265', '276', '219', '171', '99', '211',\n",
              "       '280', '207', '208', '285', '197', '290', '87', '238', '93', '214',\n",
              "       '227', '50', '217', '94', '70', '88', '300', '273', '236', '181',\n",
              "       '261', '246', '249', '202', '241', '256', '191', '237', '222',\n",
              "       '232', '275', '228', '243', '223', '79', '229', '264', '269',\n",
              "       '247', '226', '221', '91', '213', '242', '288', '263', '58', '85',\n",
              "       '80', '253', '233', '271', '251'], dtype=object)"
            ]
          },
          "metadata": {
            "tags": []
          },
          "execution_count": 34
        }
      ]
    },
    {
      "cell_type": "code",
      "metadata": {
        "id": "NuEruEiAMnvr"
      },
      "source": [
        "\n",
        "data['weight']=data['weight'].astype(int)"
      ],
      "execution_count": 35,
      "outputs": []
    },
    {
      "cell_type": "markdown",
      "metadata": {
        "id": "dy2smXb-Mnvr"
      },
      "source": [
        "- From the above, some values of weight are as low as 58lbs i.e 26Kg.This shows that there is a possibility of wrong entry.\n",
        "- Considering the weight and height guide chart provided by  National Institute of Health of USA, the weight of a normal person with a height of 4 feet 1 inch (58 inches) ranges from 91 to 115 lbs.\n",
        "- Hence, considering the data with weight above 91lbs only.\n",
        "- Reference:https://www.medicalnewstoday.com/articles/323446#body-mass-index"
      ]
    },
    {
      "cell_type": "code",
      "metadata": {
        "id": "2YzA3ioPMnvr"
      },
      "source": [
        "# Considering the data with weight above 91lbs only.\n",
        "\n",
        "data=data[data['weight'] >= 91]"
      ],
      "execution_count": 36,
      "outputs": []
    },
    {
      "cell_type": "code",
      "metadata": {
        "colab": {
          "base_uri": "https://localhost:8080/"
        },
        "id": "5-wJA3gTMnvr",
        "outputId": "e33669a7-1dd0-4b49-a43f-ebd4aefdc0c8"
      },
      "source": [
        "data.shape"
      ],
      "execution_count": 37,
      "outputs": [
        {
          "output_type": "execute_result",
          "data": {
            "text/plain": [
              "(181708, 15)"
            ]
          },
          "metadata": {
            "tags": []
          },
          "execution_count": 37
        }
      ]
    },
    {
      "cell_type": "code",
      "metadata": {
        "colab": {
          "base_uri": "https://localhost:8080/"
        },
        "id": "DiBgW3jOMnvs",
        "outputId": "18d8ebf1-524d-4bd2-958e-6b4161fef5a8"
      },
      "source": [
        "data.isnull().sum()"
      ],
      "execution_count": 38,
      "outputs": [
        {
          "output_type": "execute_result",
          "data": {
            "text/plain": [
              "fit                   0\n",
              "user_id               0\n",
              "bust size         17321\n",
              "item_id               0\n",
              "weight                0\n",
              "rating               74\n",
              "rented for           10\n",
              "review_text           0\n",
              "body type         13333\n",
              "review_summary        0\n",
              "category              0\n",
              "height                0\n",
              "size                  0\n",
              "age                   0\n",
              "review_date           0\n",
              "dtype: int64"
            ]
          },
          "metadata": {
            "tags": []
          },
          "execution_count": 38
        }
      ]
    },
    {
      "cell_type": "markdown",
      "metadata": {
        "id": "lgjxz6R9Mnvs"
      },
      "source": [
        "## Binning\n",
        "\n",
        "https://www.medicalnewstoday.com/articles/323446#body-mass-index"
      ]
    },
    {
      "cell_type": "code",
      "metadata": {
        "colab": {
          "base_uri": "https://localhost:8080/"
        },
        "id": "owa4_h4kMnvs",
        "outputId": "7b44ecaf-d4b3-440b-e19d-be92cc30bfb3"
      },
      "source": [
        "pd.cut(data['height'],4)"
      ],
      "execution_count": 39,
      "outputs": [
        {
          "output_type": "execute_result",
          "data": {
            "text/plain": [
              "0         (66.0, 72.0]\n",
              "1         (60.0, 66.0]\n",
              "3         (60.0, 66.0]\n",
              "4         (66.0, 72.0]\n",
              "5         (66.0, 72.0]\n",
              "              ...     \n",
              "192539    (66.0, 72.0]\n",
              "192540    (60.0, 66.0]\n",
              "192541    (66.0, 72.0]\n",
              "192542    (60.0, 66.0]\n",
              "192543    (60.0, 66.0]\n",
              "Name: height, Length: 181708, dtype: category\n",
              "Categories (4, interval[float64]): [(53.976, 60.0] < (60.0, 66.0] < (66.0, 72.0] < (72.0, 78.0]]"
            ]
          },
          "metadata": {
            "tags": []
          },
          "execution_count": 39
        }
      ]
    },
    {
      "cell_type": "code",
      "metadata": {
        "colab": {
          "base_uri": "https://localhost:8080/"
        },
        "id": "Q0QqX35vMnvs",
        "outputId": "f8adc7eb-672c-4a71-bac3-8374e9bf6538"
      },
      "source": [
        "pd.cut(data['weight'],4)"
      ],
      "execution_count": 40,
      "outputs": [
        {
          "output_type": "execute_result",
          "data": {
            "text/plain": [
              "0         (90.791, 143.25]\n",
              "1         (90.791, 143.25]\n",
              "3         (90.791, 143.25]\n",
              "4          (143.25, 195.5]\n",
              "5         (90.791, 143.25]\n",
              "                ...       \n",
              "192539    (90.791, 143.25]\n",
              "192540    (90.791, 143.25]\n",
              "192541    (90.791, 143.25]\n",
              "192542     (143.25, 195.5]\n",
              "192543     (143.25, 195.5]\n",
              "Name: weight, Length: 181708, dtype: category\n",
              "Categories (4, interval[float64]): [(90.791, 143.25] < (143.25, 195.5] < (195.5, 247.75] <\n",
              "                                    (247.75, 300.0]]"
            ]
          },
          "metadata": {
            "tags": []
          },
          "execution_count": 40
        }
      ]
    },
    {
      "cell_type": "code",
      "metadata": {
        "colab": {
          "base_uri": "https://localhost:8080/"
        },
        "id": "Vt5NR0cOMnvt",
        "outputId": "d746934b-dc92-44b0-d379-6d242372619a"
      },
      "source": [
        "pd.cut(data['age'],4)"
      ],
      "execution_count": 41,
      "outputs": [
        {
          "output_type": "execute_result",
          "data": {
            "text/plain": [
              "0         (26.0, 34.0]\n",
              "1         (34.0, 42.0]\n",
              "3         (26.0, 34.0]\n",
              "4         (26.0, 34.0]\n",
              "5         (42.0, 50.0]\n",
              "              ...     \n",
              "192539    (34.0, 42.0]\n",
              "192540    (26.0, 34.0]\n",
              "192541    (26.0, 34.0]\n",
              "192542    (26.0, 34.0]\n",
              "192543    (26.0, 34.0]\n",
              "Name: age, Length: 181708, dtype: category\n",
              "Categories (4, interval[float64]): [(17.968, 26.0] < (26.0, 34.0] < (34.0, 42.0] < (42.0, 50.0]]"
            ]
          },
          "metadata": {
            "tags": []
          },
          "execution_count": 41
        }
      ]
    },
    {
      "cell_type": "markdown",
      "metadata": {
        "id": "_rRgc2ipMnvt"
      },
      "source": [
        "## Body Type"
      ]
    },
    {
      "cell_type": "markdown",
      "metadata": {
        "id": "x5iHgp1RMnvu"
      },
      "source": [
        "- Body Type can be calculated using Bust Size, Waist Size, High Hip Size, Hip Size. \n",
        "- But the data doesn't provide the required information. Hence, dropping the null values.\n",
        "- Reference: https://www.calculator.net/body-type-calculator.html"
      ]
    },
    {
      "cell_type": "code",
      "metadata": {
        "colab": {
          "base_uri": "https://localhost:8080/"
        },
        "id": "gbpUbr2DMnvt",
        "outputId": "540f325d-5b3b-4a16-d68a-9e6b347e4e19"
      },
      "source": [
        "data['body type'].unique()"
      ],
      "execution_count": 42,
      "outputs": [
        {
          "output_type": "execute_result",
          "data": {
            "text/plain": [
              "array(['hourglass', 'straight & narrow', 'pear', 'athletic', 'full bust',\n",
              "       'petite', 'apple', nan], dtype=object)"
            ]
          },
          "metadata": {
            "tags": []
          },
          "execution_count": 42
        }
      ]
    },
    {
      "cell_type": "code",
      "metadata": {
        "id": "fStRnqrRMnvu"
      },
      "source": [
        "data=data.dropna(subset=['body type'])"
      ],
      "execution_count": 43,
      "outputs": []
    },
    {
      "cell_type": "code",
      "metadata": {
        "colab": {
          "base_uri": "https://localhost:8080/"
        },
        "id": "7bSwR9vJMnvu",
        "outputId": "2dfa03f9-a116-4f45-8979-7c28c49c8cc1"
      },
      "source": [
        "data['body type'].isnull().sum()"
      ],
      "execution_count": 44,
      "outputs": [
        {
          "output_type": "execute_result",
          "data": {
            "text/plain": [
              "0"
            ]
          },
          "metadata": {
            "tags": []
          },
          "execution_count": 44
        }
      ]
    },
    {
      "cell_type": "code",
      "metadata": {
        "colab": {
          "base_uri": "https://localhost:8080/"
        },
        "id": "rwEEqoOSMnvu",
        "outputId": "ae15728e-531c-4912-c524-09f3ada59089"
      },
      "source": [
        "data['body type'].mode()"
      ],
      "execution_count": 45,
      "outputs": [
        {
          "output_type": "execute_result",
          "data": {
            "text/plain": [
              "0    hourglass\n",
              "dtype: object"
            ]
          },
          "metadata": {
            "tags": []
          },
          "execution_count": 45
        }
      ]
    },
    {
      "cell_type": "code",
      "metadata": {
        "colab": {
          "base_uri": "https://localhost:8080/"
        },
        "id": "UXphqPDxMnvv",
        "outputId": "cc9bc12f-b098-4e9b-c0e1-8207252767ee"
      },
      "source": [
        "data.shape"
      ],
      "execution_count": 46,
      "outputs": [
        {
          "output_type": "execute_result",
          "data": {
            "text/plain": [
              "(168375, 15)"
            ]
          },
          "metadata": {
            "tags": []
          },
          "execution_count": 46
        }
      ]
    },
    {
      "cell_type": "code",
      "metadata": {
        "colab": {
          "base_uri": "https://localhost:8080/"
        },
        "id": "S1B3c6QSMnvv",
        "outputId": "821199a3-1ed2-4054-addf-dba8a4fc5694"
      },
      "source": [
        "data.isnull().sum()"
      ],
      "execution_count": 47,
      "outputs": [
        {
          "output_type": "execute_result",
          "data": {
            "text/plain": [
              "fit                   0\n",
              "user_id               0\n",
              "bust size         11611\n",
              "item_id               0\n",
              "weight                0\n",
              "rating               74\n",
              "rented for           10\n",
              "review_text           0\n",
              "body type             0\n",
              "review_summary        0\n",
              "category              0\n",
              "height                0\n",
              "size                  0\n",
              "age                   0\n",
              "review_date           0\n",
              "dtype: int64"
            ]
          },
          "metadata": {
            "tags": []
          },
          "execution_count": 47
        }
      ]
    },
    {
      "cell_type": "markdown",
      "metadata": {
        "id": "u_kYOPv4Mnvv"
      },
      "source": [
        "## Bust Size"
      ]
    },
    {
      "cell_type": "code",
      "metadata": {
        "colab": {
          "base_uri": "https://localhost:8080/"
        },
        "id": "LeQoSi_IMnvw",
        "outputId": "5589a603-9419-4846-eceb-b34021216115"
      },
      "source": [
        "data['bust size'].unique()"
      ],
      "execution_count": 48,
      "outputs": [
        {
          "output_type": "execute_result",
          "data": {
            "text/plain": [
              "array(['34d', '34b', '34c', '32b', '36d', '36a', '32d+', '36c', '32c',\n",
              "       '30dd', nan, '36b', '32d', '34a', '34dd', '40ddd/e', '32a', '38c',\n",
              "       '34ddd/e', '38d+', '38a', '38d', '36ddd/e', '38dd', '38f', '42dd',\n",
              "       '40g', '40dd', '32dd', '30ddd/e', '32ddd/e', '36dd', '36d+',\n",
              "       '34d+', '40d', '28dd', '30d', '30b', '38b', '34aa', '32aa', '36f',\n",
              "       '28c', '36aa', '34g', '42ddd/e', '40c', '34f', '42c', '28g',\n",
              "       '28aa', '36g', '30a', '28f', '44ddd/e', '42d', '30c', '30aa',\n",
              "       '44dd', '32i', '32g', '30g', '38h', '30h', '34j', '38ddd/e', '32h',\n",
              "       '28a', '32f', '44d', '40h', '38g', '34h', '36j', '40f', '36h',\n",
              "       '28ddd/e', '44f', '28b', '34i', '30f', '36i', '30i', '42b', '42j',\n",
              "       '40b', '48d', '38i', '48dd', '28d', '46ddd/e', '42g', '44c', '42f',\n",
              "       '40j', '32j', '38j', '44b', '46c', '44g', '42h', '40i', '44h'],\n",
              "      dtype=object)"
            ]
          },
          "metadata": {
            "tags": []
          },
          "execution_count": 48
        }
      ]
    },
    {
      "cell_type": "code",
      "metadata": {
        "colab": {
          "base_uri": "https://localhost:8080/"
        },
        "id": "hGH1K-8xMnvw",
        "outputId": "641f55b2-d5dc-41f9-d232-b34ba2bd2464"
      },
      "source": [
        "data['bust size'].nunique()"
      ],
      "execution_count": 49,
      "outputs": [
        {
          "output_type": "execute_result",
          "data": {
            "text/plain": [
              "102"
            ]
          },
          "metadata": {
            "tags": []
          },
          "execution_count": 49
        }
      ]
    },
    {
      "cell_type": "markdown",
      "metadata": {
        "id": "9ih_16ZhMnvw"
      },
      "source": [
        "- As per the reference, considering the cup size and band length, 40ddd/e is equivalent to 42dd & 34d+ is equivalent to 34dd.\n",
        "- Replacing the 'bust size' column accordingly.\n",
        "- Reference: https://fredericks.zendesk.com/hc/en-us/articles/230299668-Bra-Cup-Equivalent"
      ]
    },
    {
      "cell_type": "code",
      "metadata": {
        "id": "1cBegKSMMnvw"
      },
      "source": [
        "data['bust size'].replace({'34d+':'34dd','32d+':'32dd','38d+':'38dd','36d+':'36dd',\n",
        "                           '40ddd/e':'42dd','34ddd/e':'36dd','36ddd/e':'38dd','30ddd/e':'32dd',\n",
        "                          '32ddd/e':'34dd','42ddd/e':'44dd','44ddd/e':'46dd','38ddd/e':'40dd',\n",
        "                          '28ddd/e':'30dd','46ddd/e':'48dd'},inplace=True)"
      ],
      "execution_count": 50,
      "outputs": []
    },
    {
      "cell_type": "code",
      "metadata": {
        "colab": {
          "base_uri": "https://localhost:8080/"
        },
        "id": "R8TSLDNvMnvx",
        "outputId": "e1e855e0-9828-483c-a2a8-5b459182afdb"
      },
      "source": [
        "data['bust size'].nunique()"
      ],
      "execution_count": 51,
      "outputs": [
        {
          "output_type": "execute_result",
          "data": {
            "text/plain": [
              "89"
            ]
          },
          "metadata": {
            "tags": []
          },
          "execution_count": 51
        }
      ]
    },
    {
      "cell_type": "code",
      "metadata": {
        "colab": {
          "base_uri": "https://localhost:8080/"
        },
        "id": "DnCKu--rMnvx",
        "outputId": "01a33eb7-5fb4-4b2f-d76d-5d6c089d4a15"
      },
      "source": [
        "data['bust size'].unique()"
      ],
      "execution_count": 52,
      "outputs": [
        {
          "output_type": "execute_result",
          "data": {
            "text/plain": [
              "array(['34d', '34b', '34c', '32b', '36d', '36a', '32dd', '36c', '32c',\n",
              "       '30dd', nan, '36b', '32d', '34a', '34dd', '42dd', '32a', '38c',\n",
              "       '36dd', '38dd', '38a', '38d', '38f', '40g', '40dd', '40d', '28dd',\n",
              "       '30d', '30b', '38b', '34aa', '32aa', '36f', '28c', '36aa', '34g',\n",
              "       '44dd', '40c', '34f', '42c', '28g', '28aa', '36g', '30a', '28f',\n",
              "       '46dd', '42d', '30c', '30aa', '32i', '32g', '30g', '38h', '30h',\n",
              "       '34j', '32h', '28a', '32f', '44d', '40h', '38g', '34h', '36j',\n",
              "       '40f', '36h', '44f', '28b', '34i', '30f', '36i', '30i', '42b',\n",
              "       '42j', '40b', '48d', '38i', '48dd', '28d', '42g', '44c', '42f',\n",
              "       '40j', '32j', '38j', '44b', '46c', '44g', '42h', '40i', '44h'],\n",
              "      dtype=object)"
            ]
          },
          "metadata": {
            "tags": []
          },
          "execution_count": 52
        }
      ]
    },
    {
      "cell_type": "code",
      "metadata": {
        "colab": {
          "base_uri": "https://localhost:8080/"
        },
        "id": "l72usqRnMnvy",
        "outputId": "0e016f9d-a8dc-457d-b665-735bd7d46f7f"
      },
      "source": [
        "data.shape"
      ],
      "execution_count": 53,
      "outputs": [
        {
          "output_type": "execute_result",
          "data": {
            "text/plain": [
              "(168375, 15)"
            ]
          },
          "metadata": {
            "tags": []
          },
          "execution_count": 53
        }
      ]
    },
    {
      "cell_type": "markdown",
      "metadata": {
        "id": "frWIXRXyMnvy"
      },
      "source": [
        "- Bust Size is generally calculated using band size, but the data doesn't provide the required information. \n",
        "- Hence, dropping the null values.\n",
        "- Reference: https://www.victoriassecret.com/us/vs/bras/how-to-measure-bras"
      ]
    },
    {
      "cell_type": "code",
      "metadata": {
        "id": "hHBNij2yMnvy"
      },
      "source": [
        "data=data.dropna(subset=['bust size'])"
      ],
      "execution_count": 54,
      "outputs": []
    },
    {
      "cell_type": "markdown",
      "metadata": {
        "id": "sEYU9xFjMnvy"
      },
      "source": [
        "## Rented for"
      ]
    },
    {
      "cell_type": "code",
      "metadata": {
        "colab": {
          "base_uri": "https://localhost:8080/"
        },
        "id": "Tq53FqcoMnvy",
        "outputId": "8e69562c-0abe-4780-fa41-33c82bb02f7b"
      },
      "source": [
        "data['rented for'].unique()"
      ],
      "execution_count": 55,
      "outputs": [
        {
          "output_type": "execute_result",
          "data": {
            "text/plain": [
              "array(['vacation', 'other', 'formal affair', 'wedding', 'date',\n",
              "       'everyday', 'party', 'work', nan, 'party: cocktail'], dtype=object)"
            ]
          },
          "metadata": {
            "tags": []
          },
          "execution_count": 55
        }
      ]
    },
    {
      "cell_type": "code",
      "metadata": {
        "colab": {
          "base_uri": "https://localhost:8080/"
        },
        "id": "JtjGEKSyMnvz",
        "outputId": "76722a9a-baab-4133-ac42-d75c8ce5cc8f"
      },
      "source": [
        "data['rented for'].value_counts()"
      ],
      "execution_count": 56,
      "outputs": [
        {
          "output_type": "execute_result",
          "data": {
            "text/plain": [
              "wedding            46926\n",
              "formal affair      32360\n",
              "party              29232\n",
              "everyday           13747\n",
              "work               12479\n",
              "other              12330\n",
              "date                6292\n",
              "vacation            3390\n",
              "party: cocktail        1\n",
              "Name: rented for, dtype: int64"
            ]
          },
          "metadata": {
            "tags": []
          },
          "execution_count": 56
        }
      ]
    },
    {
      "cell_type": "code",
      "metadata": {
        "id": "CYdIu7n2Mnvz"
      },
      "source": [
        "data['rented for'].replace({'party: cocktail':'party'},inplace=True)"
      ],
      "execution_count": 57,
      "outputs": []
    },
    {
      "cell_type": "code",
      "metadata": {
        "colab": {
          "base_uri": "https://localhost:8080/"
        },
        "id": "Z8l6l05zMnvz",
        "outputId": "4a352af7-ae33-4367-a0f3-bd00d3d658c8"
      },
      "source": [
        "# Only 10 values are missing, using mode imputation\n",
        "\n",
        "data['rented for'].mode()"
      ],
      "execution_count": 58,
      "outputs": [
        {
          "output_type": "execute_result",
          "data": {
            "text/plain": [
              "0    wedding\n",
              "dtype: object"
            ]
          },
          "metadata": {
            "tags": []
          },
          "execution_count": 58
        }
      ]
    },
    {
      "cell_type": "code",
      "metadata": {
        "id": "lJiZOMMQMnv0"
      },
      "source": [
        "data['rented for']=data['rented for'].fillna(data['rented for'].mode()[0])"
      ],
      "execution_count": 59,
      "outputs": []
    },
    {
      "cell_type": "markdown",
      "metadata": {
        "id": "LMFlzjaq7GAh"
      },
      "source": [
        "## Category"
      ]
    },
    {
      "cell_type": "code",
      "metadata": {
        "colab": {
          "base_uri": "https://localhost:8080/"
        },
        "id": "fH-rE3qs7FTg",
        "outputId": "cb729277-2faf-4fdd-dd18-bfcc3254c1e6"
      },
      "source": [
        "data['category'].unique()"
      ],
      "execution_count": 60,
      "outputs": [
        {
          "output_type": "execute_result",
          "data": {
            "text/plain": [
              "array(['romper', 'gown', 'dress', 'sheath', 'leggings', 'top', 'sweater',\n",
              "       'jacket', 'shirtdress', 'jumpsuit', 'shift', 'shirt', 'mini',\n",
              "       'skirt', 'maxi', 'blouse', 'pants', 'suit', 'coat', 'trench',\n",
              "       'bomber', 'cape', 'blazer', 'vest', 'duster', 'ballgown', 'tank',\n",
              "       'poncho', 'frock', 'tunic', 'cardigan', 'culottes', 'down',\n",
              "       'trouser', 'midi', 'pant', 'legging', 'print', 'knit', 'culotte',\n",
              "       'sweatshirt', 'peacoat', 'kaftan', 'overalls', 'jogger', 'combo',\n",
              "       'henley', 'tee', 'cami', 'blouson', 'turtleneck', 'trousers',\n",
              "       'overcoat', 'hoodie', 'pullover', 't-shirt', 'caftan', 'tight',\n",
              "       'kimono', 'for', 'crewneck', 'skirts', 'parka', 'buttondown',\n",
              "       'skort', 'sweatershirt', 'sweatpants', 'jeans'], dtype=object)"
            ]
          },
          "metadata": {
            "tags": []
          },
          "execution_count": 60
        }
      ]
    },
    {
      "cell_type": "code",
      "metadata": {
        "colab": {
          "base_uri": "https://localhost:8080/"
        },
        "id": "MZUrAlKW7ULI",
        "outputId": "630cb58f-2405-4fbc-c8b2-9a98f38ff8c3"
      },
      "source": [
        "data['category'].nunique()"
      ],
      "execution_count": 61,
      "outputs": [
        {
          "output_type": "execute_result",
          "data": {
            "text/plain": [
              "68"
            ]
          },
          "metadata": {
            "tags": []
          },
          "execution_count": 61
        }
      ]
    },
    {
      "cell_type": "code",
      "metadata": {
        "colab": {
          "base_uri": "https://localhost:8080/"
        },
        "id": "6k6bAi-QMnv0",
        "outputId": "153e75f6-4ab4-4bd6-8360-529504fa80e4"
      },
      "source": [
        "# Check for Nulls post cleaning\n",
        "\n",
        "data.isnull().sum()"
      ],
      "execution_count": 62,
      "outputs": [
        {
          "output_type": "execute_result",
          "data": {
            "text/plain": [
              "fit                0\n",
              "user_id            0\n",
              "bust size          0\n",
              "item_id            0\n",
              "weight             0\n",
              "rating            61\n",
              "rented for         0\n",
              "review_text        0\n",
              "body type          0\n",
              "review_summary     0\n",
              "category           0\n",
              "height             0\n",
              "size               0\n",
              "age                0\n",
              "review_date        0\n",
              "dtype: int64"
            ]
          },
          "metadata": {
            "tags": []
          },
          "execution_count": 62
        }
      ]
    },
    {
      "cell_type": "code",
      "metadata": {
        "colab": {
          "base_uri": "https://localhost:8080/"
        },
        "id": "wvzak8riMnv0",
        "outputId": "69143a72-eeef-455c-d32f-465fedae19be"
      },
      "source": [
        "data.shape"
      ],
      "execution_count": 63,
      "outputs": [
        {
          "output_type": "execute_result",
          "data": {
            "text/plain": [
              "(156764, 15)"
            ]
          },
          "metadata": {
            "tags": []
          },
          "execution_count": 63
        }
      ]
    },
    {
      "cell_type": "code",
      "metadata": {
        "scrolled": true,
        "colab": {
          "base_uri": "https://localhost:8080/"
        },
        "id": "YjIxtul6Mnv1",
        "outputId": "621e6af2-31ce-49f5-dfef-89f0ea687bc9"
      },
      "source": [
        "data['user_id'].nunique()"
      ],
      "execution_count": 64,
      "outputs": [
        {
          "output_type": "execute_result",
          "data": {
            "text/plain": [
              "83817"
            ]
          },
          "metadata": {
            "tags": []
          },
          "execution_count": 64
        }
      ]
    },
    {
      "cell_type": "code",
      "metadata": {
        "colab": {
          "base_uri": "https://localhost:8080/"
        },
        "id": "fuRulkTxMnv1",
        "outputId": "fc3a8c8b-bf30-4ef6-92ea-4fe6597ad134"
      },
      "source": [
        "data['item_id'].nunique()"
      ],
      "execution_count": 65,
      "outputs": [
        {
          "output_type": "execute_result",
          "data": {
            "text/plain": [
              "5760"
            ]
          },
          "metadata": {
            "tags": []
          },
          "execution_count": 65
        }
      ]
    },
    {
      "cell_type": "markdown",
      "metadata": {
        "id": "dCstB_6sMnv1"
      },
      "source": [
        "# Data Visualisation"
      ]
    },
    {
      "cell_type": "code",
      "metadata": {
        "colab": {
          "base_uri": "https://localhost:8080/",
          "height": 306
        },
        "id": "4EemKOC4Mnv2",
        "outputId": "31a28e19-944f-43ed-e7bb-0489c4990915"
      },
      "source": [
        "data.head()"
      ],
      "execution_count": 66,
      "outputs": [
        {
          "output_type": "execute_result",
          "data": {
            "text/html": [
              "<div>\n",
              "<style scoped>\n",
              "    .dataframe tbody tr th:only-of-type {\n",
              "        vertical-align: middle;\n",
              "    }\n",
              "\n",
              "    .dataframe tbody tr th {\n",
              "        vertical-align: top;\n",
              "    }\n",
              "\n",
              "    .dataframe thead th {\n",
              "        text-align: right;\n",
              "    }\n",
              "</style>\n",
              "<table border=\"1\" class=\"dataframe\">\n",
              "  <thead>\n",
              "    <tr style=\"text-align: right;\">\n",
              "      <th></th>\n",
              "      <th>fit</th>\n",
              "      <th>user_id</th>\n",
              "      <th>bust size</th>\n",
              "      <th>item_id</th>\n",
              "      <th>weight</th>\n",
              "      <th>rating</th>\n",
              "      <th>rented for</th>\n",
              "      <th>review_text</th>\n",
              "      <th>body type</th>\n",
              "      <th>review_summary</th>\n",
              "      <th>category</th>\n",
              "      <th>height</th>\n",
              "      <th>size</th>\n",
              "      <th>age</th>\n",
              "      <th>review_date</th>\n",
              "    </tr>\n",
              "  </thead>\n",
              "  <tbody>\n",
              "    <tr>\n",
              "      <th>0</th>\n",
              "      <td>fit</td>\n",
              "      <td>420272</td>\n",
              "      <td>34d</td>\n",
              "      <td>2260466</td>\n",
              "      <td>137</td>\n",
              "      <td>10.0</td>\n",
              "      <td>vacation</td>\n",
              "      <td>An adorable romper! Belt and zipper were a lit...</td>\n",
              "      <td>hourglass</td>\n",
              "      <td>So many compliments!</td>\n",
              "      <td>romper</td>\n",
              "      <td>68.0</td>\n",
              "      <td>14</td>\n",
              "      <td>28.0</td>\n",
              "      <td>April 20, 2016</td>\n",
              "    </tr>\n",
              "    <tr>\n",
              "      <th>1</th>\n",
              "      <td>fit</td>\n",
              "      <td>273551</td>\n",
              "      <td>34b</td>\n",
              "      <td>153475</td>\n",
              "      <td>132</td>\n",
              "      <td>10.0</td>\n",
              "      <td>other</td>\n",
              "      <td>I rented this dress for a photo shoot. The the...</td>\n",
              "      <td>straight &amp; narrow</td>\n",
              "      <td>I felt so glamourous!!!</td>\n",
              "      <td>gown</td>\n",
              "      <td>66.0</td>\n",
              "      <td>12</td>\n",
              "      <td>36.0</td>\n",
              "      <td>June 18, 2013</td>\n",
              "    </tr>\n",
              "    <tr>\n",
              "      <th>3</th>\n",
              "      <td>fit</td>\n",
              "      <td>909926</td>\n",
              "      <td>34c</td>\n",
              "      <td>126335</td>\n",
              "      <td>135</td>\n",
              "      <td>8.0</td>\n",
              "      <td>formal affair</td>\n",
              "      <td>I rented this for my company's black tie award...</td>\n",
              "      <td>pear</td>\n",
              "      <td>Dress arrived on time and in perfect condition.</td>\n",
              "      <td>dress</td>\n",
              "      <td>65.0</td>\n",
              "      <td>8</td>\n",
              "      <td>34.0</td>\n",
              "      <td>February 12, 2014</td>\n",
              "    </tr>\n",
              "    <tr>\n",
              "      <th>4</th>\n",
              "      <td>fit</td>\n",
              "      <td>151944</td>\n",
              "      <td>34b</td>\n",
              "      <td>616682</td>\n",
              "      <td>145</td>\n",
              "      <td>10.0</td>\n",
              "      <td>wedding</td>\n",
              "      <td>I have always been petite in my upper body and...</td>\n",
              "      <td>athletic</td>\n",
              "      <td>Was in love with this dress !!!</td>\n",
              "      <td>gown</td>\n",
              "      <td>69.0</td>\n",
              "      <td>12</td>\n",
              "      <td>27.0</td>\n",
              "      <td>September 26, 2016</td>\n",
              "    </tr>\n",
              "    <tr>\n",
              "      <th>5</th>\n",
              "      <td>fit</td>\n",
              "      <td>734848</td>\n",
              "      <td>32b</td>\n",
              "      <td>364092</td>\n",
              "      <td>138</td>\n",
              "      <td>8.0</td>\n",
              "      <td>date</td>\n",
              "      <td>Didn't actually wear it. It fit perfectly. The...</td>\n",
              "      <td>athletic</td>\n",
              "      <td>Traditional with a touch a sass</td>\n",
              "      <td>dress</td>\n",
              "      <td>68.0</td>\n",
              "      <td>8</td>\n",
              "      <td>45.0</td>\n",
              "      <td>April 30, 2016</td>\n",
              "    </tr>\n",
              "  </tbody>\n",
              "</table>\n",
              "</div>"
            ],
            "text/plain": [
              "   fit  user_id bust size  item_id  ...  height  size   age         review_date\n",
              "0  fit   420272       34d  2260466  ...    68.0    14  28.0      April 20, 2016\n",
              "1  fit   273551       34b   153475  ...    66.0    12  36.0       June 18, 2013\n",
              "3  fit   909926       34c   126335  ...    65.0     8  34.0   February 12, 2014\n",
              "4  fit   151944       34b   616682  ...    69.0    12  27.0  September 26, 2016\n",
              "5  fit   734848       32b   364092  ...    68.0     8  45.0      April 30, 2016\n",
              "\n",
              "[5 rows x 15 columns]"
            ]
          },
          "metadata": {
            "tags": []
          },
          "execution_count": 66
        }
      ]
    },
    {
      "cell_type": "markdown",
      "metadata": {
        "id": "pGNmy6tqMnv2"
      },
      "source": [
        "## Binning of Age"
      ]
    },
    {
      "cell_type": "code",
      "metadata": {
        "id": "ETd2eb8UMnv2"
      },
      "source": [
        "bins=[18,22,27,31,36,41,46,51]\n",
        "labels=['18-22','22-27','27-31','31-36','36-41','41-46','46-51']\n",
        "data['age_bin']=pd.cut(data['age'],bins,labels=labels)"
      ],
      "execution_count": 67,
      "outputs": []
    },
    {
      "cell_type": "markdown",
      "metadata": {
        "id": "aeZ7W2EfMnv2"
      },
      "source": [
        "## Rented for Vs Age Bin "
      ]
    },
    {
      "cell_type": "code",
      "metadata": {
        "colab": {
          "base_uri": "https://localhost:8080/",
          "height": 0
        },
        "id": "NJENLLRbMnv3",
        "outputId": "ae1fd075-2091-469c-f93b-036e128f3612"
      },
      "source": [
        "fig, ax = plt.subplots(figsize=(15,6))\n",
        "graph = sns.countplot(x=\"rented for\", hue=\"age_bin\", data=data,ax=ax)"
      ],
      "execution_count": 68,
      "outputs": [
        {
          "output_type": "display_data",
          "data": {
            "image/png": "[encoded data removed]",
            "text/plain": [
              "<Figure size 1080x432 with 1 Axes>"
            ]
          },
          "metadata": {
            "tags": [],
            "needs_background": "light"
          }
        }
      ]
    },
    {
      "cell_type": "code",
      "metadata": {
        "colab": {
          "base_uri": "https://localhost:8080/",
          "height": 0
        },
        "id": "WDWOBDC5Mnv3",
        "outputId": "ef52be9d-128b-4f06-eaa8-def4cdc821ca"
      },
      "source": [
        "pd.crosstab(index=data['age_bin'],columns=data['body type'])"
      ],
      "execution_count": 69,
      "outputs": [
        {
          "output_type": "execute_result",
          "data": {
            "text/html": [
              "<div>\n",
              "<style scoped>\n",
              "    .dataframe tbody tr th:only-of-type {\n",
              "        vertical-align: middle;\n",
              "    }\n",
              "\n",
              "    .dataframe tbody tr th {\n",
              "        vertical-align: top;\n",
              "    }\n",
              "\n",
              "    .dataframe thead th {\n",
              "        text-align: right;\n",
              "    }\n",
              "</style>\n",
              "<table border=\"1\" class=\"dataframe\">\n",
              "  <thead>\n",
              "    <tr style=\"text-align: right;\">\n",
              "      <th>body type</th>\n",
              "      <th>apple</th>\n",
              "      <th>athletic</th>\n",
              "      <th>full bust</th>\n",
              "      <th>hourglass</th>\n",
              "      <th>pear</th>\n",
              "      <th>petite</th>\n",
              "      <th>straight &amp; narrow</th>\n",
              "    </tr>\n",
              "    <tr>\n",
              "      <th>age_bin</th>\n",
              "      <th></th>\n",
              "      <th></th>\n",
              "      <th></th>\n",
              "      <th></th>\n",
              "      <th></th>\n",
              "      <th></th>\n",
              "      <th></th>\n",
              "    </tr>\n",
              "  </thead>\n",
              "  <tbody>\n",
              "    <tr>\n",
              "      <th>18-22</th>\n",
              "      <td>68</td>\n",
              "      <td>1056</td>\n",
              "      <td>196</td>\n",
              "      <td>1102</td>\n",
              "      <td>416</td>\n",
              "      <td>568</td>\n",
              "      <td>565</td>\n",
              "    </tr>\n",
              "    <tr>\n",
              "      <th>22-27</th>\n",
              "      <td>379</td>\n",
              "      <td>5557</td>\n",
              "      <td>1635</td>\n",
              "      <td>6765</td>\n",
              "      <td>2839</td>\n",
              "      <td>3161</td>\n",
              "      <td>2464</td>\n",
              "    </tr>\n",
              "    <tr>\n",
              "      <th>27-31</th>\n",
              "      <td>931</td>\n",
              "      <td>11600</td>\n",
              "      <td>3747</td>\n",
              "      <td>14140</td>\n",
              "      <td>6047</td>\n",
              "      <td>6414</td>\n",
              "      <td>3500</td>\n",
              "    </tr>\n",
              "    <tr>\n",
              "      <th>31-36</th>\n",
              "      <td>1290</td>\n",
              "      <td>11393</td>\n",
              "      <td>3562</td>\n",
              "      <td>14508</td>\n",
              "      <td>5695</td>\n",
              "      <td>5437</td>\n",
              "      <td>3535</td>\n",
              "    </tr>\n",
              "    <tr>\n",
              "      <th>36-41</th>\n",
              "      <td>812</td>\n",
              "      <td>5293</td>\n",
              "      <td>1750</td>\n",
              "      <td>6601</td>\n",
              "      <td>2796</td>\n",
              "      <td>2379</td>\n",
              "      <td>1605</td>\n",
              "    </tr>\n",
              "    <tr>\n",
              "      <th>41-46</th>\n",
              "      <td>369</td>\n",
              "      <td>2485</td>\n",
              "      <td>957</td>\n",
              "      <td>3599</td>\n",
              "      <td>1348</td>\n",
              "      <td>1188</td>\n",
              "      <td>731</td>\n",
              "    </tr>\n",
              "    <tr>\n",
              "      <th>46-51</th>\n",
              "      <td>239</td>\n",
              "      <td>1541</td>\n",
              "      <td>632</td>\n",
              "      <td>1980</td>\n",
              "      <td>609</td>\n",
              "      <td>503</td>\n",
              "      <td>482</td>\n",
              "    </tr>\n",
              "  </tbody>\n",
              "</table>\n",
              "</div>"
            ],
            "text/plain": [
              "body type  apple  athletic  full bust  ...  pear  petite  straight & narrow\n",
              "age_bin                                ...                                 \n",
              "18-22         68      1056        196  ...   416     568                565\n",
              "22-27        379      5557       1635  ...  2839    3161               2464\n",
              "27-31        931     11600       3747  ...  6047    6414               3500\n",
              "31-36       1290     11393       3562  ...  5695    5437               3535\n",
              "36-41        812      5293       1750  ...  2796    2379               1605\n",
              "41-46        369      2485        957  ...  1348    1188                731\n",
              "46-51        239      1541        632  ...   609     503                482\n",
              "\n",
              "[7 rows x 7 columns]"
            ]
          },
          "metadata": {
            "tags": []
          },
          "execution_count": 69
        }
      ]
    },
    {
      "cell_type": "markdown",
      "metadata": {
        "id": "u-nlexl7Mnv3"
      },
      "source": [
        "## Body Type Vs Age Bin"
      ]
    },
    {
      "cell_type": "code",
      "metadata": {
        "colab": {
          "base_uri": "https://localhost:8080/",
          "height": 388
        },
        "id": "-Bu9RCC3Mnv3",
        "outputId": "f0cd9480-d15c-4d9c-863b-0f41e71a95a3"
      },
      "source": [
        "fig, ax = plt.subplots(figsize=(15,6))\n",
        "graph = sns.countplot(x=\"body type\", hue=\"age_bin\", data=data,ax=ax)"
      ],
      "execution_count": 70,
      "outputs": [
        {
          "output_type": "display_data",
          "data": {
            "image/png": "[encoded data removed]",
            "text/plain": [
              "<Figure size 1080x432 with 1 Axes>"
            ]
          },
          "metadata": {
            "tags": [],
            "needs_background": "light"
          }
        }
      ]
    },
    {
      "cell_type": "markdown",
      "metadata": {
        "id": "hjujULJiMnv4"
      },
      "source": [
        "## Top 25 clothing rented"
      ]
    },
    {
      "cell_type": "code",
      "metadata": {
        "id": "TTsd1eP8Mnv4"
      },
      "source": [
        "itemid_top=data['item_id'].value_counts().reset_index()\n",
        "itemid_top.columns=['item_id','count']\n",
        "itemid_top=itemid_top.sort_values('count',ascending=False)\n",
        "itemid_top25=itemid_top.iloc[:25,:]\n",
        "itemid_top25 = itemid_top25.reset_index(drop=True)"
      ],
      "execution_count": 71,
      "outputs": []
    },
    {
      "cell_type": "code",
      "metadata": {
        "colab": {
          "base_uri": "https://localhost:8080/",
          "height": 577
        },
        "id": "GpyvwsyGMnv4",
        "outputId": "96f63f21-1c5d-4661-a0f2-5f5588d4e66c"
      },
      "source": [
        "plt.figure(figsize=(14,8))\n",
        "sns.barplot(x='item_id',y='count',data=itemid_top25,\n",
        "           order=itemid_top25.sort_values('count',ascending=False).item_id,\n",
        "           palette=\"autumn\")\n",
        "plt.xticks(rotation=45)"
      ],
      "execution_count": 72,
      "outputs": [
        {
          "output_type": "execute_result",
          "data": {
            "text/plain": [
              "(array([ 0,  1,  2,  3,  4,  5,  6,  7,  8,  9, 10, 11, 12, 13, 14, 15, 16,\n",
              "        17, 18, 19, 20, 21, 22, 23, 24]),\n",
              " <a list of 25 Text major ticklabel objects>)"
            ]
          },
          "metadata": {
            "tags": []
          },
          "execution_count": 72
        },
        {
          "output_type": "display_data",
          "data": {
            "image/png": "[encoded data removed]",
            "text/plain": [
              "<Figure size 1008x576 with 1 Axes>"
            ]
          },
          "metadata": {
            "tags": [],
            "needs_background": "light"
          }
        }
      ]
    },
    {
      "cell_type": "code",
      "metadata": {
        "colab": {
          "base_uri": "https://localhost:8080/",
          "height": 297
        },
        "id": "WM8HIIiSMnv4",
        "outputId": "97ff87c6-4b7b-4661-a3f0-efc1d183ab46"
      },
      "source": [
        "data_rented=data['rented for'].value_counts().reset_index()\n",
        "data_rented.columns=['rented for','count']\n",
        "data_rented"
      ],
      "execution_count": 73,
      "outputs": [
        {
          "output_type": "execute_result",
          "data": {
            "text/html": [
              "<div>\n",
              "<style scoped>\n",
              "    .dataframe tbody tr th:only-of-type {\n",
              "        vertical-align: middle;\n",
              "    }\n",
              "\n",
              "    .dataframe tbody tr th {\n",
              "        vertical-align: top;\n",
              "    }\n",
              "\n",
              "    .dataframe thead th {\n",
              "        text-align: right;\n",
              "    }\n",
              "</style>\n",
              "<table border=\"1\" class=\"dataframe\">\n",
              "  <thead>\n",
              "    <tr style=\"text-align: right;\">\n",
              "      <th></th>\n",
              "      <th>rented for</th>\n",
              "      <th>count</th>\n",
              "    </tr>\n",
              "  </thead>\n",
              "  <tbody>\n",
              "    <tr>\n",
              "      <th>0</th>\n",
              "      <td>wedding</td>\n",
              "      <td>46933</td>\n",
              "    </tr>\n",
              "    <tr>\n",
              "      <th>1</th>\n",
              "      <td>formal affair</td>\n",
              "      <td>32360</td>\n",
              "    </tr>\n",
              "    <tr>\n",
              "      <th>2</th>\n",
              "      <td>party</td>\n",
              "      <td>29233</td>\n",
              "    </tr>\n",
              "    <tr>\n",
              "      <th>3</th>\n",
              "      <td>everyday</td>\n",
              "      <td>13747</td>\n",
              "    </tr>\n",
              "    <tr>\n",
              "      <th>4</th>\n",
              "      <td>work</td>\n",
              "      <td>12479</td>\n",
              "    </tr>\n",
              "    <tr>\n",
              "      <th>5</th>\n",
              "      <td>other</td>\n",
              "      <td>12330</td>\n",
              "    </tr>\n",
              "    <tr>\n",
              "      <th>6</th>\n",
              "      <td>date</td>\n",
              "      <td>6292</td>\n",
              "    </tr>\n",
              "    <tr>\n",
              "      <th>7</th>\n",
              "      <td>vacation</td>\n",
              "      <td>3390</td>\n",
              "    </tr>\n",
              "  </tbody>\n",
              "</table>\n",
              "</div>"
            ],
            "text/plain": [
              "      rented for  count\n",
              "0        wedding  46933\n",
              "1  formal affair  32360\n",
              "2          party  29233\n",
              "3       everyday  13747\n",
              "4           work  12479\n",
              "5          other  12330\n",
              "6           date   6292\n",
              "7       vacation   3390"
            ]
          },
          "metadata": {
            "tags": []
          },
          "execution_count": 73
        }
      ]
    },
    {
      "cell_type": "code",
      "metadata": {
        "colab": {
          "base_uri": "https://localhost:8080/",
          "height": 374
        },
        "id": "w-Xq09rRMnv6",
        "outputId": "3ea7e2fe-3a74-462c-fc18-ab6a71f67a1a"
      },
      "source": [
        "pie, ax = plt.subplots(figsize=[10,6])\n",
        "plt.pie(x=data_rented['count'], autopct=\"%.1f%%\",\n",
        "        labels=data_rented['rented for'], pctdistance=(0.5))\n",
        "plt.title(\"Ratio of occasions on which clothes are rented\", fontsize=14);"
      ],
      "execution_count": 74,
      "outputs": [
        {
          "output_type": "display_data",
          "data": {
            "image/png": "[encoded data removed]",
            "text/plain": [
              "<Figure size 720x432 with 1 Axes>"
            ]
          },
          "metadata": {
            "tags": []
          }
        }
      ]
    },
    {
      "cell_type": "code",
      "metadata": {
        "colab": {
          "base_uri": "https://localhost:8080/",
          "height": 419
        },
        "id": "YaRLsDpgMnv6",
        "outputId": "549803d2-025a-4540-c140-7ed3a197f4c1"
      },
      "source": [
        "d1=data.groupby(['rented for','item_id']).agg({'item_id':'count'})\n",
        "d1.columns=['count']\n",
        "d1=d1.reset_index()\n",
        "d1"
      ],
      "execution_count": 75,
      "outputs": [
        {
          "output_type": "execute_result",
          "data": {
            "text/html": [
              "<div>\n",
              "<style scoped>\n",
              "    .dataframe tbody tr th:only-of-type {\n",
              "        vertical-align: middle;\n",
              "    }\n",
              "\n",
              "    .dataframe tbody tr th {\n",
              "        vertical-align: top;\n",
              "    }\n",
              "\n",
              "    .dataframe thead th {\n",
              "        text-align: right;\n",
              "    }\n",
              "</style>\n",
              "<table border=\"1\" class=\"dataframe\">\n",
              "  <thead>\n",
              "    <tr style=\"text-align: right;\">\n",
              "      <th></th>\n",
              "      <th>rented for</th>\n",
              "      <th>item_id</th>\n",
              "      <th>count</th>\n",
              "    </tr>\n",
              "  </thead>\n",
              "  <tbody>\n",
              "    <tr>\n",
              "      <th>0</th>\n",
              "      <td>date</td>\n",
              "      <td>123373</td>\n",
              "      <td>2</td>\n",
              "    </tr>\n",
              "    <tr>\n",
              "      <th>1</th>\n",
              "      <td>date</td>\n",
              "      <td>123793</td>\n",
              "      <td>7</td>\n",
              "    </tr>\n",
              "    <tr>\n",
              "      <th>2</th>\n",
              "      <td>date</td>\n",
              "      <td>124204</td>\n",
              "      <td>15</td>\n",
              "    </tr>\n",
              "    <tr>\n",
              "      <th>3</th>\n",
              "      <td>date</td>\n",
              "      <td>124553</td>\n",
              "      <td>38</td>\n",
              "    </tr>\n",
              "    <tr>\n",
              "      <th>4</th>\n",
              "      <td>date</td>\n",
              "      <td>125424</td>\n",
              "      <td>21</td>\n",
              "    </tr>\n",
              "    <tr>\n",
              "      <th>...</th>\n",
              "      <td>...</td>\n",
              "      <td>...</td>\n",
              "      <td>...</td>\n",
              "    </tr>\n",
              "    <tr>\n",
              "      <th>21749</th>\n",
              "      <td>work</td>\n",
              "      <td>2960969</td>\n",
              "      <td>9</td>\n",
              "    </tr>\n",
              "    <tr>\n",
              "      <th>21750</th>\n",
              "      <td>work</td>\n",
              "      <td>2963850</td>\n",
              "      <td>3</td>\n",
              "    </tr>\n",
              "    <tr>\n",
              "      <th>21751</th>\n",
              "      <td>work</td>\n",
              "      <td>2964470</td>\n",
              "      <td>1</td>\n",
              "    </tr>\n",
              "    <tr>\n",
              "      <th>21752</th>\n",
              "      <td>work</td>\n",
              "      <td>2965924</td>\n",
              "      <td>1</td>\n",
              "    </tr>\n",
              "    <tr>\n",
              "      <th>21753</th>\n",
              "      <td>work</td>\n",
              "      <td>2966087</td>\n",
              "      <td>1</td>\n",
              "    </tr>\n",
              "  </tbody>\n",
              "</table>\n",
              "<p>21754 rows × 3 columns</p>\n",
              "</div>"
            ],
            "text/plain": [
              "      rented for  item_id  count\n",
              "0           date   123373      2\n",
              "1           date   123793      7\n",
              "2           date   124204     15\n",
              "3           date   124553     38\n",
              "4           date   125424     21\n",
              "...          ...      ...    ...\n",
              "21749       work  2960969      9\n",
              "21750       work  2963850      3\n",
              "21751       work  2964470      1\n",
              "21752       work  2965924      1\n",
              "21753       work  2966087      1\n",
              "\n",
              "[21754 rows x 3 columns]"
            ]
          },
          "metadata": {
            "tags": []
          },
          "execution_count": 75
        }
      ]
    },
    {
      "cell_type": "code",
      "metadata": {
        "id": "SJ9PDXo2Mnv6"
      },
      "source": [
        "def weight_calculator(row):\n",
        "    w = row['weight']\n",
        "    h = row['height']\n",
        "    if pd.isnull(w):\n",
        "        weight=(29.6/703)*pow(h,2)\n",
        "        return (str(int(weight)))\n",
        "    else:\n",
        "        return w"
      ],
      "execution_count": 76,
      "outputs": []
    },
    {
      "cell_type": "code",
      "metadata": {
        "colab": {
          "base_uri": "https://localhost:8080/"
        },
        "id": "szJ8OACQMnv7",
        "outputId": "acd1cfa9-7eae-4ab2-8ef3-1ed532fd50c1"
      },
      "source": [
        "new = data.apply(weight_calculator, axis = 1)\n",
        "itemid_top25.item_id"
      ],
      "execution_count": 77,
      "outputs": [
        {
          "output_type": "execute_result",
          "data": {
            "text/plain": [
              "0      126335\n",
              "1      174086\n",
              "2      123793\n",
              "3      132738\n",
              "4      145906\n",
              "5      127865\n",
              "6      137585\n",
              "7      136110\n",
              "8      172027\n",
              "9      131117\n",
              "10     131533\n",
              "11     130259\n",
              "12     152836\n",
              "13     125465\n",
              "14     124204\n",
              "15     166633\n",
              "16     136860\n",
              "17     123373\n",
              "18     154002\n",
              "19    1226293\n",
              "20     168592\n",
              "21     168610\n",
              "22     125564\n",
              "23     146684\n",
              "24     153475\n",
              "Name: item_id, dtype: int64"
            ]
          },
          "metadata": {
            "tags": []
          },
          "execution_count": 77
        }
      ]
    },
    {
      "cell_type": "markdown",
      "metadata": {
        "id": "RR7H2dOFMnv-"
      },
      "source": [
        "# Sentiment Analysis\n",
        "- To find out the the sentiment behind the customer reviews"
      ]
    },
    {
      "cell_type": "code",
      "metadata": {
        "colab": {
          "base_uri": "https://localhost:8080/"
        },
        "id": "atnDzuEEMnv-",
        "outputId": "88a583bf-6b21-472c-89a8-e578bf1a2a20"
      },
      "source": [
        "import nltk\n",
        "nltk.download('vader_lexicon')\n",
        "\n",
        "from nltk.sentiment.vader import SentimentIntensityAnalyzer\n",
        "analyser = SentimentIntensityAnalyzer()"
      ],
      "execution_count": 78,
      "outputs": [
        {
          "output_type": "stream",
          "text": [
            "[nltk_data] Downloading package vader_lexicon to /root/nltk_data...\n",
            "[nltk_data]   Package vader_lexicon is already up-to-date!\n"
          ],
          "name": "stdout"
        },
        {
          "output_type": "stream",
          "text": [
            "/usr/local/lib/python3.7/dist-packages/nltk/twitter/__init__.py:20: UserWarning: The twython library has not been installed. Some functionality from the twitter package will not be available.\n",
            "  warnings.warn(\"The twython library has not been installed. \"\n"
          ],
          "name": "stderr"
        }
      ]
    },
    {
      "cell_type": "markdown",
      "metadata": {
        "id": "1xhxwF6LfX1X"
      },
      "source": [
        "## Obtaining Sentiment using Compound Score using Vader Sentiment Analysis"
      ]
    },
    {
      "cell_type": "code",
      "metadata": {
        "id": "upkdzw_FMnv-"
      },
      "source": [
        "def get_sentiment(review):\n",
        "    polarity = analyser.polarity_scores(review)\n",
        "    if(polarity['compound']>=0.05):\n",
        "        return \"Highly Positive\"\n",
        "    elif(polarity['compound']>=0.25):\n",
        "        return \"Positive\"\n",
        "    elif(polarity['compound']<=-0.25):\n",
        "        return \"Negative\"\n",
        "    elif(polarity['compound']<=-0.05):\n",
        "        return \"Highly Negative\"\n",
        "    else:\n",
        "        return \"Neutral\""
      ],
      "execution_count": 79,
      "outputs": []
    },
    {
      "cell_type": "code",
      "metadata": {
        "id": "Py90hB-5Mnv-"
      },
      "source": [
        "#data['sentiment'] = data.clean_review.apply(get_sentiment)\n",
        "#data = data.iloc[:10000]\n"
      ],
      "execution_count": 80,
      "outputs": []
    },
    {
      "cell_type": "code",
      "metadata": {
        "id": "pVctaiPpFudQ"
      },
      "source": [
        "data['sentiment'] = data.review_text.apply(get_sentiment)"
      ],
      "execution_count": 81,
      "outputs": []
    },
    {
      "cell_type": "markdown",
      "metadata": {
        "id": "ML_Ft3x_Mnv_"
      },
      "source": [
        "## Missing Rating fill trying"
      ]
    },
    {
      "cell_type": "code",
      "metadata": {
        "colab": {
          "base_uri": "https://localhost:8080/"
        },
        "id": "jRo1u9o0INYs",
        "outputId": "b874b273-cca9-4e87-fc3a-0621445d0f04"
      },
      "source": [
        "data.shape"
      ],
      "execution_count": 82,
      "outputs": [
        {
          "output_type": "execute_result",
          "data": {
            "text/plain": [
              "(156764, 17)"
            ]
          },
          "metadata": {
            "tags": []
          },
          "execution_count": 82
        }
      ]
    },
    {
      "cell_type": "code",
      "metadata": {
        "colab": {
          "base_uri": "https://localhost:8080/"
        },
        "id": "FdFoo9c0IdHb",
        "outputId": "64c61c4b-6ecf-4eda-e9ac-137d3f97074f"
      },
      "source": [
        "data.columns"
      ],
      "execution_count": 83,
      "outputs": [
        {
          "output_type": "execute_result",
          "data": {
            "text/plain": [
              "Index(['fit', 'user_id', 'bust size', 'item_id', 'weight', 'rating',\n",
              "       'rented for', 'review_text', 'body type', 'review_summary', 'category',\n",
              "       'height', 'size', 'age', 'review_date', 'age_bin', 'sentiment'],\n",
              "      dtype='object')"
            ]
          },
          "metadata": {
            "tags": []
          },
          "execution_count": 83
        }
      ]
    },
    {
      "cell_type": "code",
      "metadata": {
        "id": "HOLWcDCXMnv_",
        "colab": {
          "base_uri": "https://localhost:8080/"
        },
        "outputId": "49b09a80-bee7-4ea1-f9fb-b7225a37e686"
      },
      "source": [
        "data['rating'].value_counts()"
      ],
      "execution_count": 84,
      "outputs": [
        {
          "output_type": "execute_result",
          "data": {
            "text/plain": [
              "10.0    100702\n",
              "8.0      43914\n",
              "6.0       8922\n",
              "4.0       2325\n",
              "2.0        840\n",
              "Name: rating, dtype: int64"
            ]
          },
          "metadata": {
            "tags": []
          },
          "execution_count": 84
        }
      ]
    },
    {
      "cell_type": "code",
      "metadata": {
        "id": "QUszdEzZMnv_",
        "colab": {
          "base_uri": "https://localhost:8080/"
        },
        "outputId": "deba886e-9e83-4e57-863b-c48528167027"
      },
      "source": [
        "data['sentiment'].value_counts()"
      ],
      "execution_count": 85,
      "outputs": [
        {
          "output_type": "execute_result",
          "data": {
            "text/plain": [
              "Highly Positive    147725\n",
              "Neutral              3762\n",
              "Negative             3737\n",
              "Highly Negative      1540\n",
              "Name: sentiment, dtype: int64"
            ]
          },
          "metadata": {
            "tags": []
          },
          "execution_count": 85
        }
      ]
    },
    {
      "cell_type": "code",
      "metadata": {
        "scrolled": true,
        "id": "IQUB6AEGMnwA"
      },
      "source": [
        "def get_rating(text):\n",
        "    if(text=='Highly Positive'):\n",
        "        return 10.0\n",
        "    elif(text=='Positive'):\n",
        "        return 8.0\n",
        "    elif(text=='Neutral'):\n",
        "        return 6.0\n",
        "    elif(text=='Negative'):\n",
        "        return 4.0\n",
        "    else:\n",
        "        return 2.0"
      ],
      "execution_count": 86,
      "outputs": []
    },
    {
      "cell_type": "code",
      "metadata": {
        "id": "Am56g3l5MnwA"
      },
      "source": [
        "data['rating'] = data['rating'].replace(np.nan,0.0)\n",
        "\n",
        "for i in range(len(data)):\n",
        "        if data.iloc[i,5] == 0.0:\n",
        "            data.iloc[i,5] = get_rating(data.iloc[i,16])"
      ],
      "execution_count": 87,
      "outputs": []
    },
    {
      "cell_type": "code",
      "metadata": {
        "id": "Pw07PAu2MnwB",
        "colab": {
          "base_uri": "https://localhost:8080/"
        },
        "outputId": "631b67c8-f6a1-4306-c11e-3dfba58a7326"
      },
      "source": [
        "data['rating'].value_counts()"
      ],
      "execution_count": 88,
      "outputs": [
        {
          "output_type": "execute_result",
          "data": {
            "text/plain": [
              "10.0    100759\n",
              "8.0      43914\n",
              "6.0       8924\n",
              "4.0       2327\n",
              "2.0        840\n",
              "Name: rating, dtype: int64"
            ]
          },
          "metadata": {
            "tags": []
          },
          "execution_count": 88
        }
      ]
    },
    {
      "cell_type": "code",
      "metadata": {
        "id": "5NgAiVCHMnwC",
        "colab": {
          "base_uri": "https://localhost:8080/",
          "height": 0
        },
        "outputId": "8e90c25b-40d3-4d34-84c1-731e6fa747b7"
      },
      "source": [
        "data.head()"
      ],
      "execution_count": 89,
      "outputs": [
        {
          "output_type": "execute_result",
          "data": {
            "text/html": [
              "<div>\n",
              "<style scoped>\n",
              "    .dataframe tbody tr th:only-of-type {\n",
              "        vertical-align: middle;\n",
              "    }\n",
              "\n",
              "    .dataframe tbody tr th {\n",
              "        vertical-align: top;\n",
              "    }\n",
              "\n",
              "    .dataframe thead th {\n",
              "        text-align: right;\n",
              "    }\n",
              "</style>\n",
              "<table border=\"1\" class=\"dataframe\">\n",
              "  <thead>\n",
              "    <tr style=\"text-align: right;\">\n",
              "      <th></th>\n",
              "      <th>fit</th>\n",
              "      <th>user_id</th>\n",
              "      <th>bust size</th>\n",
              "      <th>item_id</th>\n",
              "      <th>weight</th>\n",
              "      <th>rating</th>\n",
              "      <th>rented for</th>\n",
              "      <th>review_text</th>\n",
              "      <th>body type</th>\n",
              "      <th>review_summary</th>\n",
              "      <th>category</th>\n",
              "      <th>height</th>\n",
              "      <th>size</th>\n",
              "      <th>age</th>\n",
              "      <th>review_date</th>\n",
              "      <th>age_bin</th>\n",
              "      <th>sentiment</th>\n",
              "    </tr>\n",
              "  </thead>\n",
              "  <tbody>\n",
              "    <tr>\n",
              "      <th>0</th>\n",
              "      <td>fit</td>\n",
              "      <td>420272</td>\n",
              "      <td>34d</td>\n",
              "      <td>2260466</td>\n",
              "      <td>137</td>\n",
              "      <td>10.0</td>\n",
              "      <td>vacation</td>\n",
              "      <td>An adorable romper! Belt and zipper were a lit...</td>\n",
              "      <td>hourglass</td>\n",
              "      <td>So many compliments!</td>\n",
              "      <td>romper</td>\n",
              "      <td>68.0</td>\n",
              "      <td>14</td>\n",
              "      <td>28.0</td>\n",
              "      <td>April 20, 2016</td>\n",
              "      <td>27-31</td>\n",
              "      <td>Highly Positive</td>\n",
              "    </tr>\n",
              "    <tr>\n",
              "      <th>1</th>\n",
              "      <td>fit</td>\n",
              "      <td>273551</td>\n",
              "      <td>34b</td>\n",
              "      <td>153475</td>\n",
              "      <td>132</td>\n",
              "      <td>10.0</td>\n",
              "      <td>other</td>\n",
              "      <td>I rented this dress for a photo shoot. The the...</td>\n",
              "      <td>straight &amp; narrow</td>\n",
              "      <td>I felt so glamourous!!!</td>\n",
              "      <td>gown</td>\n",
              "      <td>66.0</td>\n",
              "      <td>12</td>\n",
              "      <td>36.0</td>\n",
              "      <td>June 18, 2013</td>\n",
              "      <td>31-36</td>\n",
              "      <td>Highly Positive</td>\n",
              "    </tr>\n",
              "    <tr>\n",
              "      <th>3</th>\n",
              "      <td>fit</td>\n",
              "      <td>909926</td>\n",
              "      <td>34c</td>\n",
              "      <td>126335</td>\n",
              "      <td>135</td>\n",
              "      <td>8.0</td>\n",
              "      <td>formal affair</td>\n",
              "      <td>I rented this for my company's black tie award...</td>\n",
              "      <td>pear</td>\n",
              "      <td>Dress arrived on time and in perfect condition.</td>\n",
              "      <td>dress</td>\n",
              "      <td>65.0</td>\n",
              "      <td>8</td>\n",
              "      <td>34.0</td>\n",
              "      <td>February 12, 2014</td>\n",
              "      <td>31-36</td>\n",
              "      <td>Highly Positive</td>\n",
              "    </tr>\n",
              "    <tr>\n",
              "      <th>4</th>\n",
              "      <td>fit</td>\n",
              "      <td>151944</td>\n",
              "      <td>34b</td>\n",
              "      <td>616682</td>\n",
              "      <td>145</td>\n",
              "      <td>10.0</td>\n",
              "      <td>wedding</td>\n",
              "      <td>I have always been petite in my upper body and...</td>\n",
              "      <td>athletic</td>\n",
              "      <td>Was in love with this dress !!!</td>\n",
              "      <td>gown</td>\n",
              "      <td>69.0</td>\n",
              "      <td>12</td>\n",
              "      <td>27.0</td>\n",
              "      <td>September 26, 2016</td>\n",
              "      <td>22-27</td>\n",
              "      <td>Highly Positive</td>\n",
              "    </tr>\n",
              "    <tr>\n",
              "      <th>5</th>\n",
              "      <td>fit</td>\n",
              "      <td>734848</td>\n",
              "      <td>32b</td>\n",
              "      <td>364092</td>\n",
              "      <td>138</td>\n",
              "      <td>8.0</td>\n",
              "      <td>date</td>\n",
              "      <td>Didn't actually wear it. It fit perfectly. The...</td>\n",
              "      <td>athletic</td>\n",
              "      <td>Traditional with a touch a sass</td>\n",
              "      <td>dress</td>\n",
              "      <td>68.0</td>\n",
              "      <td>8</td>\n",
              "      <td>45.0</td>\n",
              "      <td>April 30, 2016</td>\n",
              "      <td>41-46</td>\n",
              "      <td>Highly Positive</td>\n",
              "    </tr>\n",
              "  </tbody>\n",
              "</table>\n",
              "</div>"
            ],
            "text/plain": [
              "   fit  user_id bust size  ...         review_date  age_bin        sentiment\n",
              "0  fit   420272       34d  ...      April 20, 2016    27-31  Highly Positive\n",
              "1  fit   273551       34b  ...       June 18, 2013    31-36  Highly Positive\n",
              "3  fit   909926       34c  ...   February 12, 2014    31-36  Highly Positive\n",
              "4  fit   151944       34b  ...  September 26, 2016    22-27  Highly Positive\n",
              "5  fit   734848       32b  ...      April 30, 2016    41-46  Highly Positive\n",
              "\n",
              "[5 rows x 17 columns]"
            ]
          },
          "metadata": {
            "tags": []
          },
          "execution_count": 89
        }
      ]
    },
    {
      "cell_type": "code",
      "metadata": {
        "colab": {
          "base_uri": "https://localhost:8080/"
        },
        "id": "yijkbyobJeRD",
        "outputId": "cdcabbe9-0b29-4388-d8c5-e0371e2874fb"
      },
      "source": [
        "data.isnull().sum()"
      ],
      "execution_count": 90,
      "outputs": [
        {
          "output_type": "execute_result",
          "data": {
            "text/plain": [
              "fit                 0\n",
              "user_id             0\n",
              "bust size           0\n",
              "item_id             0\n",
              "weight              0\n",
              "rating              0\n",
              "rented for          0\n",
              "review_text         0\n",
              "body type           0\n",
              "review_summary      0\n",
              "category            0\n",
              "height              0\n",
              "size                0\n",
              "age                 0\n",
              "review_date         0\n",
              "age_bin           295\n",
              "sentiment           0\n",
              "dtype: int64"
            ]
          },
          "metadata": {
            "tags": []
          },
          "execution_count": 90
        }
      ]
    },
    {
      "cell_type": "code",
      "metadata": {
        "id": "2ylTHeLCVU02"
      },
      "source": [
        "data.to_csv('/content/drive/My Drive/Colab Notebooks/cleaned_project_data.csv')"
      ],
      "execution_count": 91,
      "outputs": []
    },
    {
      "cell_type": "markdown",
      "metadata": {
        "id": "Kein-KgRLyiN"
      },
      "source": [
        "# Building Recommendation Systems"
      ]
    },
    {
      "cell_type": "code",
      "metadata": {
        "id": "AuyJ5wabMXp_"
      },
      "source": [
        "data=pd.read_csv('/content/drive/My Drive/Colab Notebooks/cleaned_project_data.csv')"
      ],
      "execution_count": 92,
      "outputs": []
    },
    {
      "cell_type": "markdown",
      "metadata": {
        "id": "rtaJnh4m2fw_"
      },
      "source": [
        "## Clustering of the users usong K-Means Clustering"
      ]
    },
    {
      "cell_type": "code",
      "metadata": {
        "colab": {
          "base_uri": "https://localhost:8080/",
          "height": 1000
        },
        "id": "Ks1e2FhdHYIj",
        "outputId": "1dd15439-25dc-485a-bf6b-e1d05cfa441a"
      },
      "source": [
        "data"
      ],
      "execution_count": 93,
      "outputs": [
        {
          "output_type": "execute_result",
          "data": {
            "text/html": [
              "<div>\n",
              "<style scoped>\n",
              "    .dataframe tbody tr th:only-of-type {\n",
              "        vertical-align: middle;\n",
              "    }\n",
              "\n",
              "    .dataframe tbody tr th {\n",
              "        vertical-align: top;\n",
              "    }\n",
              "\n",
              "    .dataframe thead th {\n",
              "        text-align: right;\n",
              "    }\n",
              "</style>\n",
              "<table border=\"1\" class=\"dataframe\">\n",
              "  <thead>\n",
              "    <tr style=\"text-align: right;\">\n",
              "      <th></th>\n",
              "      <th>Unnamed: 0</th>\n",
              "      <th>fit</th>\n",
              "      <th>user_id</th>\n",
              "      <th>bust size</th>\n",
              "      <th>item_id</th>\n",
              "      <th>weight</th>\n",
              "      <th>rating</th>\n",
              "      <th>rented for</th>\n",
              "      <th>review_text</th>\n",
              "      <th>body type</th>\n",
              "      <th>review_summary</th>\n",
              "      <th>category</th>\n",
              "      <th>height</th>\n",
              "      <th>size</th>\n",
              "      <th>age</th>\n",
              "      <th>review_date</th>\n",
              "      <th>age_bin</th>\n",
              "      <th>sentiment</th>\n",
              "    </tr>\n",
              "  </thead>\n",
              "  <tbody>\n",
              "    <tr>\n",
              "      <th>0</th>\n",
              "      <td>0</td>\n",
              "      <td>fit</td>\n",
              "      <td>420272</td>\n",
              "      <td>34d</td>\n",
              "      <td>2260466</td>\n",
              "      <td>137</td>\n",
              "      <td>10.0</td>\n",
              "      <td>vacation</td>\n",
              "      <td>An adorable romper! Belt and zipper were a lit...</td>\n",
              "      <td>hourglass</td>\n",
              "      <td>So many compliments!</td>\n",
              "      <td>romper</td>\n",
              "      <td>68.0</td>\n",
              "      <td>14</td>\n",
              "      <td>28.0</td>\n",
              "      <td>April 20, 2016</td>\n",
              "      <td>27-31</td>\n",
              "      <td>Highly Positive</td>\n",
              "    </tr>\n",
              "    <tr>\n",
              "      <th>1</th>\n",
              "      <td>1</td>\n",
              "      <td>fit</td>\n",
              "      <td>273551</td>\n",
              "      <td>34b</td>\n",
              "      <td>153475</td>\n",
              "      <td>132</td>\n",
              "      <td>10.0</td>\n",
              "      <td>other</td>\n",
              "      <td>I rented this dress for a photo shoot. The the...</td>\n",
              "      <td>straight &amp; narrow</td>\n",
              "      <td>I felt so glamourous!!!</td>\n",
              "      <td>gown</td>\n",
              "      <td>66.0</td>\n",
              "      <td>12</td>\n",
              "      <td>36.0</td>\n",
              "      <td>June 18, 2013</td>\n",
              "      <td>31-36</td>\n",
              "      <td>Highly Positive</td>\n",
              "    </tr>\n",
              "    <tr>\n",
              "      <th>2</th>\n",
              "      <td>3</td>\n",
              "      <td>fit</td>\n",
              "      <td>909926</td>\n",
              "      <td>34c</td>\n",
              "      <td>126335</td>\n",
              "      <td>135</td>\n",
              "      <td>8.0</td>\n",
              "      <td>formal affair</td>\n",
              "      <td>I rented this for my company's black tie award...</td>\n",
              "      <td>pear</td>\n",
              "      <td>Dress arrived on time and in perfect condition.</td>\n",
              "      <td>dress</td>\n",
              "      <td>65.0</td>\n",
              "      <td>8</td>\n",
              "      <td>34.0</td>\n",
              "      <td>February 12, 2014</td>\n",
              "      <td>31-36</td>\n",
              "      <td>Highly Positive</td>\n",
              "    </tr>\n",
              "    <tr>\n",
              "      <th>3</th>\n",
              "      <td>4</td>\n",
              "      <td>fit</td>\n",
              "      <td>151944</td>\n",
              "      <td>34b</td>\n",
              "      <td>616682</td>\n",
              "      <td>145</td>\n",
              "      <td>10.0</td>\n",
              "      <td>wedding</td>\n",
              "      <td>I have always been petite in my upper body and...</td>\n",
              "      <td>athletic</td>\n",
              "      <td>Was in love with this dress !!!</td>\n",
              "      <td>gown</td>\n",
              "      <td>69.0</td>\n",
              "      <td>12</td>\n",
              "      <td>27.0</td>\n",
              "      <td>September 26, 2016</td>\n",
              "      <td>22-27</td>\n",
              "      <td>Highly Positive</td>\n",
              "    </tr>\n",
              "    <tr>\n",
              "      <th>4</th>\n",
              "      <td>5</td>\n",
              "      <td>fit</td>\n",
              "      <td>734848</td>\n",
              "      <td>32b</td>\n",
              "      <td>364092</td>\n",
              "      <td>138</td>\n",
              "      <td>8.0</td>\n",
              "      <td>date</td>\n",
              "      <td>Didn't actually wear it. It fit perfectly. The...</td>\n",
              "      <td>athletic</td>\n",
              "      <td>Traditional with a touch a sass</td>\n",
              "      <td>dress</td>\n",
              "      <td>68.0</td>\n",
              "      <td>8</td>\n",
              "      <td>45.0</td>\n",
              "      <td>April 30, 2016</td>\n",
              "      <td>41-46</td>\n",
              "      <td>Highly Positive</td>\n",
              "    </tr>\n",
              "    <tr>\n",
              "      <th>...</th>\n",
              "      <td>...</td>\n",
              "      <td>...</td>\n",
              "      <td>...</td>\n",
              "      <td>...</td>\n",
              "      <td>...</td>\n",
              "      <td>...</td>\n",
              "      <td>...</td>\n",
              "      <td>...</td>\n",
              "      <td>...</td>\n",
              "      <td>...</td>\n",
              "      <td>...</td>\n",
              "      <td>...</td>\n",
              "      <td>...</td>\n",
              "      <td>...</td>\n",
              "      <td>...</td>\n",
              "      <td>...</td>\n",
              "      <td>...</td>\n",
              "      <td>...</td>\n",
              "    </tr>\n",
              "    <tr>\n",
              "      <th>156759</th>\n",
              "      <td>192539</td>\n",
              "      <td>fit</td>\n",
              "      <td>66386</td>\n",
              "      <td>34dd</td>\n",
              "      <td>2252812</td>\n",
              "      <td>140</td>\n",
              "      <td>10.0</td>\n",
              "      <td>work</td>\n",
              "      <td>Fit like a glove!</td>\n",
              "      <td>hourglass</td>\n",
              "      <td>LOVE IT!!! First Item Im thinking of buying!</td>\n",
              "      <td>jumpsuit</td>\n",
              "      <td>69.0</td>\n",
              "      <td>8</td>\n",
              "      <td>42.0</td>\n",
              "      <td>May 18, 2016</td>\n",
              "      <td>41-46</td>\n",
              "      <td>Highly Positive</td>\n",
              "    </tr>\n",
              "    <tr>\n",
              "      <th>156760</th>\n",
              "      <td>192540</td>\n",
              "      <td>fit</td>\n",
              "      <td>118398</td>\n",
              "      <td>32c</td>\n",
              "      <td>682043</td>\n",
              "      <td>100</td>\n",
              "      <td>10.0</td>\n",
              "      <td>work</td>\n",
              "      <td>The pattern contrast on this dress is really s...</td>\n",
              "      <td>petite</td>\n",
              "      <td>LOVE it!</td>\n",
              "      <td>dress</td>\n",
              "      <td>61.0</td>\n",
              "      <td>4</td>\n",
              "      <td>29.0</td>\n",
              "      <td>September 30, 2016</td>\n",
              "      <td>27-31</td>\n",
              "      <td>Highly Positive</td>\n",
              "    </tr>\n",
              "    <tr>\n",
              "      <th>156761</th>\n",
              "      <td>192541</td>\n",
              "      <td>fit</td>\n",
              "      <td>47002</td>\n",
              "      <td>36a</td>\n",
              "      <td>683251</td>\n",
              "      <td>135</td>\n",
              "      <td>6.0</td>\n",
              "      <td>everyday</td>\n",
              "      <td>Like the other DVF wraps, the fit on this is f...</td>\n",
              "      <td>straight &amp; narrow</td>\n",
              "      <td>Loud patterning, flattering fit</td>\n",
              "      <td>dress</td>\n",
              "      <td>68.0</td>\n",
              "      <td>8</td>\n",
              "      <td>31.0</td>\n",
              "      <td>March 4, 2016</td>\n",
              "      <td>27-31</td>\n",
              "      <td>Highly Positive</td>\n",
              "    </tr>\n",
              "    <tr>\n",
              "      <th>156762</th>\n",
              "      <td>192542</td>\n",
              "      <td>fit</td>\n",
              "      <td>961120</td>\n",
              "      <td>36c</td>\n",
              "      <td>126335</td>\n",
              "      <td>165</td>\n",
              "      <td>10.0</td>\n",
              "      <td>wedding</td>\n",
              "      <td>This dress was PERFECTION.  it looked incredib...</td>\n",
              "      <td>pear</td>\n",
              "      <td>loved this dress it was comfortable and photog...</td>\n",
              "      <td>dress</td>\n",
              "      <td>66.0</td>\n",
              "      <td>16</td>\n",
              "      <td>31.0</td>\n",
              "      <td>November 25, 2015</td>\n",
              "      <td>27-31</td>\n",
              "      <td>Highly Positive</td>\n",
              "    </tr>\n",
              "    <tr>\n",
              "      <th>156763</th>\n",
              "      <td>192543</td>\n",
              "      <td>fit</td>\n",
              "      <td>123612</td>\n",
              "      <td>36b</td>\n",
              "      <td>127865</td>\n",
              "      <td>155</td>\n",
              "      <td>10.0</td>\n",
              "      <td>wedding</td>\n",
              "      <td>This dress was wonderful! I had originally pla...</td>\n",
              "      <td>athletic</td>\n",
              "      <td>I wore this to a beautiful black tie optional ...</td>\n",
              "      <td>gown</td>\n",
              "      <td>66.0</td>\n",
              "      <td>16</td>\n",
              "      <td>30.0</td>\n",
              "      <td>August 29, 2017</td>\n",
              "      <td>27-31</td>\n",
              "      <td>Highly Positive</td>\n",
              "    </tr>\n",
              "  </tbody>\n",
              "</table>\n",
              "<p>156764 rows × 18 columns</p>\n",
              "</div>"
            ],
            "text/plain": [
              "        Unnamed: 0  fit  user_id  ...         review_date  age_bin        sentiment\n",
              "0                0  fit   420272  ...      April 20, 2016    27-31  Highly Positive\n",
              "1                1  fit   273551  ...       June 18, 2013    31-36  Highly Positive\n",
              "2                3  fit   909926  ...   February 12, 2014    31-36  Highly Positive\n",
              "3                4  fit   151944  ...  September 26, 2016    22-27  Highly Positive\n",
              "4                5  fit   734848  ...      April 30, 2016    41-46  Highly Positive\n",
              "...            ...  ...      ...  ...                 ...      ...              ...\n",
              "156759      192539  fit    66386  ...        May 18, 2016    41-46  Highly Positive\n",
              "156760      192540  fit   118398  ...  September 30, 2016    27-31  Highly Positive\n",
              "156761      192541  fit    47002  ...       March 4, 2016    27-31  Highly Positive\n",
              "156762      192542  fit   961120  ...   November 25, 2015    27-31  Highly Positive\n",
              "156763      192543  fit   123612  ...     August 29, 2017    27-31  Highly Positive\n",
              "\n",
              "[156764 rows x 18 columns]"
            ]
          },
          "metadata": {
            "tags": []
          },
          "execution_count": 93
        }
      ]
    },
    {
      "cell_type": "code",
      "metadata": {
        "id": "1CF3bXLhMnwE"
      },
      "source": [
        "score_dict = {\n",
        "    \"Highly Positive\" : 10,\n",
        "    \"Positive\" : 8,\n",
        "    \"Neutral\" : 6,\n",
        "    \"Negative\" : 4,\n",
        "    \"Highly Negative\" : 2\n",
        "}\n",
        "data['sentiment_rating'] = data['sentiment'].apply(lambda item: score_dict[item])"
      ],
      "execution_count": 94,
      "outputs": []
    },
    {
      "cell_type": "code",
      "metadata": {
        "colab": {
          "base_uri": "https://localhost:8080/"
        },
        "id": "lnvn2VrtMnwF",
        "outputId": "8259cc2e-1bf3-4bb4-f60a-dac32a729d7c"
      },
      "source": [
        "print((data['sentiment_rating'] == data['rating']).sum() / data.shape[0])"
      ],
      "execution_count": 95,
      "outputs": [
        {
          "output_type": "stream",
          "text": [
            "0.6276759970401368\n"
          ],
          "name": "stdout"
        }
      ]
    },
    {
      "cell_type": "code",
      "metadata": {
        "id": "XlwiLerTL0dQ"
      },
      "source": [
        "data['compound_rating'] = round(data['rating']*0.6 + data['sentiment_rating']*0.4)"
      ],
      "execution_count": 96,
      "outputs": []
    },
    {
      "cell_type": "code",
      "metadata": {
        "colab": {
          "base_uri": "https://localhost:8080/",
          "height": 530
        },
        "id": "7LWD6rvAMnwF",
        "outputId": "1716e610-6a13-4294-d6fd-ebfde12f55f5"
      },
      "source": [
        "data.head()"
      ],
      "execution_count": 97,
      "outputs": [
        {
          "output_type": "execute_result",
          "data": {
            "text/html": [
              "<div>\n",
              "<style scoped>\n",
              "    .dataframe tbody tr th:only-of-type {\n",
              "        vertical-align: middle;\n",
              "    }\n",
              "\n",
              "    .dataframe tbody tr th {\n",
              "        vertical-align: top;\n",
              "    }\n",
              "\n",
              "    .dataframe thead th {\n",
              "        text-align: right;\n",
              "    }\n",
              "</style>\n",
              "<table border=\"1\" class=\"dataframe\">\n",
              "  <thead>\n",
              "    <tr style=\"text-align: right;\">\n",
              "      <th></th>\n",
              "      <th>Unnamed: 0</th>\n",
              "      <th>fit</th>\n",
              "      <th>user_id</th>\n",
              "      <th>bust size</th>\n",
              "      <th>item_id</th>\n",
              "      <th>weight</th>\n",
              "      <th>rating</th>\n",
              "      <th>rented for</th>\n",
              "      <th>review_text</th>\n",
              "      <th>body type</th>\n",
              "      <th>review_summary</th>\n",
              "      <th>category</th>\n",
              "      <th>height</th>\n",
              "      <th>size</th>\n",
              "      <th>age</th>\n",
              "      <th>review_date</th>\n",
              "      <th>age_bin</th>\n",
              "      <th>sentiment</th>\n",
              "      <th>sentiment_rating</th>\n",
              "      <th>compound_rating</th>\n",
              "    </tr>\n",
              "  </thead>\n",
              "  <tbody>\n",
              "    <tr>\n",
              "      <th>0</th>\n",
              "      <td>0</td>\n",
              "      <td>fit</td>\n",
              "      <td>420272</td>\n",
              "      <td>34d</td>\n",
              "      <td>2260466</td>\n",
              "      <td>137</td>\n",
              "      <td>10.0</td>\n",
              "      <td>vacation</td>\n",
              "      <td>An adorable romper! Belt and zipper were a lit...</td>\n",
              "      <td>hourglass</td>\n",
              "      <td>So many compliments!</td>\n",
              "      <td>romper</td>\n",
              "      <td>68.0</td>\n",
              "      <td>14</td>\n",
              "      <td>28.0</td>\n",
              "      <td>April 20, 2016</td>\n",
              "      <td>27-31</td>\n",
              "      <td>Highly Positive</td>\n",
              "      <td>10</td>\n",
              "      <td>10.0</td>\n",
              "    </tr>\n",
              "    <tr>\n",
              "      <th>1</th>\n",
              "      <td>1</td>\n",
              "      <td>fit</td>\n",
              "      <td>273551</td>\n",
              "      <td>34b</td>\n",
              "      <td>153475</td>\n",
              "      <td>132</td>\n",
              "      <td>10.0</td>\n",
              "      <td>other</td>\n",
              "      <td>I rented this dress for a photo shoot. The the...</td>\n",
              "      <td>straight &amp; narrow</td>\n",
              "      <td>I felt so glamourous!!!</td>\n",
              "      <td>gown</td>\n",
              "      <td>66.0</td>\n",
              "      <td>12</td>\n",
              "      <td>36.0</td>\n",
              "      <td>June 18, 2013</td>\n",
              "      <td>31-36</td>\n",
              "      <td>Highly Positive</td>\n",
              "      <td>10</td>\n",
              "      <td>10.0</td>\n",
              "    </tr>\n",
              "    <tr>\n",
              "      <th>2</th>\n",
              "      <td>3</td>\n",
              "      <td>fit</td>\n",
              "      <td>909926</td>\n",
              "      <td>34c</td>\n",
              "      <td>126335</td>\n",
              "      <td>135</td>\n",
              "      <td>8.0</td>\n",
              "      <td>formal affair</td>\n",
              "      <td>I rented this for my company's black tie award...</td>\n",
              "      <td>pear</td>\n",
              "      <td>Dress arrived on time and in perfect condition.</td>\n",
              "      <td>dress</td>\n",
              "      <td>65.0</td>\n",
              "      <td>8</td>\n",
              "      <td>34.0</td>\n",
              "      <td>February 12, 2014</td>\n",
              "      <td>31-36</td>\n",
              "      <td>Highly Positive</td>\n",
              "      <td>10</td>\n",
              "      <td>9.0</td>\n",
              "    </tr>\n",
              "    <tr>\n",
              "      <th>3</th>\n",
              "      <td>4</td>\n",
              "      <td>fit</td>\n",
              "      <td>151944</td>\n",
              "      <td>34b</td>\n",
              "      <td>616682</td>\n",
              "      <td>145</td>\n",
              "      <td>10.0</td>\n",
              "      <td>wedding</td>\n",
              "      <td>I have always been petite in my upper body and...</td>\n",
              "      <td>athletic</td>\n",
              "      <td>Was in love with this dress !!!</td>\n",
              "      <td>gown</td>\n",
              "      <td>69.0</td>\n",
              "      <td>12</td>\n",
              "      <td>27.0</td>\n",
              "      <td>September 26, 2016</td>\n",
              "      <td>22-27</td>\n",
              "      <td>Highly Positive</td>\n",
              "      <td>10</td>\n",
              "      <td>10.0</td>\n",
              "    </tr>\n",
              "    <tr>\n",
              "      <th>4</th>\n",
              "      <td>5</td>\n",
              "      <td>fit</td>\n",
              "      <td>734848</td>\n",
              "      <td>32b</td>\n",
              "      <td>364092</td>\n",
              "      <td>138</td>\n",
              "      <td>8.0</td>\n",
              "      <td>date</td>\n",
              "      <td>Didn't actually wear it. It fit perfectly. The...</td>\n",
              "      <td>athletic</td>\n",
              "      <td>Traditional with a touch a sass</td>\n",
              "      <td>dress</td>\n",
              "      <td>68.0</td>\n",
              "      <td>8</td>\n",
              "      <td>45.0</td>\n",
              "      <td>April 30, 2016</td>\n",
              "      <td>41-46</td>\n",
              "      <td>Highly Positive</td>\n",
              "      <td>10</td>\n",
              "      <td>9.0</td>\n",
              "    </tr>\n",
              "  </tbody>\n",
              "</table>\n",
              "</div>"
            ],
            "text/plain": [
              "   Unnamed: 0  fit  user_id  ...        sentiment  sentiment_rating  compound_rating\n",
              "0           0  fit   420272  ...  Highly Positive                10             10.0\n",
              "1           1  fit   273551  ...  Highly Positive                10             10.0\n",
              "2           3  fit   909926  ...  Highly Positive                10              9.0\n",
              "3           4  fit   151944  ...  Highly Positive                10             10.0\n",
              "4           5  fit   734848  ...  Highly Positive                10              9.0\n",
              "\n",
              "[5 rows x 20 columns]"
            ]
          },
          "metadata": {
            "tags": []
          },
          "execution_count": 97
        }
      ]
    },
    {
      "cell_type": "code",
      "metadata": {
        "colab": {
          "base_uri": "https://localhost:8080/",
          "height": 1000
        },
        "id": "D8_9cBEvEIix",
        "outputId": "7acaf40a-7280-4e84-d415-e649c29d79bf"
      },
      "source": [
        "data"
      ],
      "execution_count": 98,
      "outputs": [
        {
          "output_type": "execute_result",
          "data": {
            "text/html": [
              "<div>\n",
              "<style scoped>\n",
              "    .dataframe tbody tr th:only-of-type {\n",
              "        vertical-align: middle;\n",
              "    }\n",
              "\n",
              "    .dataframe tbody tr th {\n",
              "        vertical-align: top;\n",
              "    }\n",
              "\n",
              "    .dataframe thead th {\n",
              "        text-align: right;\n",
              "    }\n",
              "</style>\n",
              "<table border=\"1\" class=\"dataframe\">\n",
              "  <thead>\n",
              "    <tr style=\"text-align: right;\">\n",
              "      <th></th>\n",
              "      <th>Unnamed: 0</th>\n",
              "      <th>fit</th>\n",
              "      <th>user_id</th>\n",
              "      <th>bust size</th>\n",
              "      <th>item_id</th>\n",
              "      <th>weight</th>\n",
              "      <th>rating</th>\n",
              "      <th>rented for</th>\n",
              "      <th>review_text</th>\n",
              "      <th>body type</th>\n",
              "      <th>review_summary</th>\n",
              "      <th>category</th>\n",
              "      <th>height</th>\n",
              "      <th>size</th>\n",
              "      <th>age</th>\n",
              "      <th>review_date</th>\n",
              "      <th>age_bin</th>\n",
              "      <th>sentiment</th>\n",
              "      <th>sentiment_rating</th>\n",
              "      <th>compound_rating</th>\n",
              "    </tr>\n",
              "  </thead>\n",
              "  <tbody>\n",
              "    <tr>\n",
              "      <th>0</th>\n",
              "      <td>0</td>\n",
              "      <td>fit</td>\n",
              "      <td>420272</td>\n",
              "      <td>34d</td>\n",
              "      <td>2260466</td>\n",
              "      <td>137</td>\n",
              "      <td>10.0</td>\n",
              "      <td>vacation</td>\n",
              "      <td>An adorable romper! Belt and zipper were a lit...</td>\n",
              "      <td>hourglass</td>\n",
              "      <td>So many compliments!</td>\n",
              "      <td>romper</td>\n",
              "      <td>68.0</td>\n",
              "      <td>14</td>\n",
              "      <td>28.0</td>\n",
              "      <td>April 20, 2016</td>\n",
              "      <td>27-31</td>\n",
              "      <td>Highly Positive</td>\n",
              "      <td>10</td>\n",
              "      <td>10.0</td>\n",
              "    </tr>\n",
              "    <tr>\n",
              "      <th>1</th>\n",
              "      <td>1</td>\n",
              "      <td>fit</td>\n",
              "      <td>273551</td>\n",
              "      <td>34b</td>\n",
              "      <td>153475</td>\n",
              "      <td>132</td>\n",
              "      <td>10.0</td>\n",
              "      <td>other</td>\n",
              "      <td>I rented this dress for a photo shoot. The the...</td>\n",
              "      <td>straight &amp; narrow</td>\n",
              "      <td>I felt so glamourous!!!</td>\n",
              "      <td>gown</td>\n",
              "      <td>66.0</td>\n",
              "      <td>12</td>\n",
              "      <td>36.0</td>\n",
              "      <td>June 18, 2013</td>\n",
              "      <td>31-36</td>\n",
              "      <td>Highly Positive</td>\n",
              "      <td>10</td>\n",
              "      <td>10.0</td>\n",
              "    </tr>\n",
              "    <tr>\n",
              "      <th>2</th>\n",
              "      <td>3</td>\n",
              "      <td>fit</td>\n",
              "      <td>909926</td>\n",
              "      <td>34c</td>\n",
              "      <td>126335</td>\n",
              "      <td>135</td>\n",
              "      <td>8.0</td>\n",
              "      <td>formal affair</td>\n",
              "      <td>I rented this for my company's black tie award...</td>\n",
              "      <td>pear</td>\n",
              "      <td>Dress arrived on time and in perfect condition.</td>\n",
              "      <td>dress</td>\n",
              "      <td>65.0</td>\n",
              "      <td>8</td>\n",
              "      <td>34.0</td>\n",
              "      <td>February 12, 2014</td>\n",
              "      <td>31-36</td>\n",
              "      <td>Highly Positive</td>\n",
              "      <td>10</td>\n",
              "      <td>9.0</td>\n",
              "    </tr>\n",
              "    <tr>\n",
              "      <th>3</th>\n",
              "      <td>4</td>\n",
              "      <td>fit</td>\n",
              "      <td>151944</td>\n",
              "      <td>34b</td>\n",
              "      <td>616682</td>\n",
              "      <td>145</td>\n",
              "      <td>10.0</td>\n",
              "      <td>wedding</td>\n",
              "      <td>I have always been petite in my upper body and...</td>\n",
              "      <td>athletic</td>\n",
              "      <td>Was in love with this dress !!!</td>\n",
              "      <td>gown</td>\n",
              "      <td>69.0</td>\n",
              "      <td>12</td>\n",
              "      <td>27.0</td>\n",
              "      <td>September 26, 2016</td>\n",
              "      <td>22-27</td>\n",
              "      <td>Highly Positive</td>\n",
              "      <td>10</td>\n",
              "      <td>10.0</td>\n",
              "    </tr>\n",
              "    <tr>\n",
              "      <th>4</th>\n",
              "      <td>5</td>\n",
              "      <td>fit</td>\n",
              "      <td>734848</td>\n",
              "      <td>32b</td>\n",
              "      <td>364092</td>\n",
              "      <td>138</td>\n",
              "      <td>8.0</td>\n",
              "      <td>date</td>\n",
              "      <td>Didn't actually wear it. It fit perfectly. The...</td>\n",
              "      <td>athletic</td>\n",
              "      <td>Traditional with a touch a sass</td>\n",
              "      <td>dress</td>\n",
              "      <td>68.0</td>\n",
              "      <td>8</td>\n",
              "      <td>45.0</td>\n",
              "      <td>April 30, 2016</td>\n",
              "      <td>41-46</td>\n",
              "      <td>Highly Positive</td>\n",
              "      <td>10</td>\n",
              "      <td>9.0</td>\n",
              "    </tr>\n",
              "    <tr>\n",
              "      <th>...</th>\n",
              "      <td>...</td>\n",
              "      <td>...</td>\n",
              "      <td>...</td>\n",
              "      <td>...</td>\n",
              "      <td>...</td>\n",
              "      <td>...</td>\n",
              "      <td>...</td>\n",
              "      <td>...</td>\n",
              "      <td>...</td>\n",
              "      <td>...</td>\n",
              "      <td>...</td>\n",
              "      <td>...</td>\n",
              "      <td>...</td>\n",
              "      <td>...</td>\n",
              "      <td>...</td>\n",
              "      <td>...</td>\n",
              "      <td>...</td>\n",
              "      <td>...</td>\n",
              "      <td>...</td>\n",
              "      <td>...</td>\n",
              "    </tr>\n",
              "    <tr>\n",
              "      <th>156759</th>\n",
              "      <td>192539</td>\n",
              "      <td>fit</td>\n",
              "      <td>66386</td>\n",
              "      <td>34dd</td>\n",
              "      <td>2252812</td>\n",
              "      <td>140</td>\n",
              "      <td>10.0</td>\n",
              "      <td>work</td>\n",
              "      <td>Fit like a glove!</td>\n",
              "      <td>hourglass</td>\n",
              "      <td>LOVE IT!!! First Item Im thinking of buying!</td>\n",
              "      <td>jumpsuit</td>\n",
              "      <td>69.0</td>\n",
              "      <td>8</td>\n",
              "      <td>42.0</td>\n",
              "      <td>May 18, 2016</td>\n",
              "      <td>41-46</td>\n",
              "      <td>Highly Positive</td>\n",
              "      <td>10</td>\n",
              "      <td>10.0</td>\n",
              "    </tr>\n",
              "    <tr>\n",
              "      <th>156760</th>\n",
              "      <td>192540</td>\n",
              "      <td>fit</td>\n",
              "      <td>118398</td>\n",
              "      <td>32c</td>\n",
              "      <td>682043</td>\n",
              "      <td>100</td>\n",
              "      <td>10.0</td>\n",
              "      <td>work</td>\n",
              "      <td>The pattern contrast on this dress is really s...</td>\n",
              "      <td>petite</td>\n",
              "      <td>LOVE it!</td>\n",
              "      <td>dress</td>\n",
              "      <td>61.0</td>\n",
              "      <td>4</td>\n",
              "      <td>29.0</td>\n",
              "      <td>September 30, 2016</td>\n",
              "      <td>27-31</td>\n",
              "      <td>Highly Positive</td>\n",
              "      <td>10</td>\n",
              "      <td>10.0</td>\n",
              "    </tr>\n",
              "    <tr>\n",
              "      <th>156761</th>\n",
              "      <td>192541</td>\n",
              "      <td>fit</td>\n",
              "      <td>47002</td>\n",
              "      <td>36a</td>\n",
              "      <td>683251</td>\n",
              "      <td>135</td>\n",
              "      <td>6.0</td>\n",
              "      <td>everyday</td>\n",
              "      <td>Like the other DVF wraps, the fit on this is f...</td>\n",
              "      <td>straight &amp; narrow</td>\n",
              "      <td>Loud patterning, flattering fit</td>\n",
              "      <td>dress</td>\n",
              "      <td>68.0</td>\n",
              "      <td>8</td>\n",
              "      <td>31.0</td>\n",
              "      <td>March 4, 2016</td>\n",
              "      <td>27-31</td>\n",
              "      <td>Highly Positive</td>\n",
              "      <td>10</td>\n",
              "      <td>8.0</td>\n",
              "    </tr>\n",
              "    <tr>\n",
              "      <th>156762</th>\n",
              "      <td>192542</td>\n",
              "      <td>fit</td>\n",
              "      <td>961120</td>\n",
              "      <td>36c</td>\n",
              "      <td>126335</td>\n",
              "      <td>165</td>\n",
              "      <td>10.0</td>\n",
              "      <td>wedding</td>\n",
              "      <td>This dress was PERFECTION.  it looked incredib...</td>\n",
              "      <td>pear</td>\n",
              "      <td>loved this dress it was comfortable and photog...</td>\n",
              "      <td>dress</td>\n",
              "      <td>66.0</td>\n",
              "      <td>16</td>\n",
              "      <td>31.0</td>\n",
              "      <td>November 25, 2015</td>\n",
              "      <td>27-31</td>\n",
              "      <td>Highly Positive</td>\n",
              "      <td>10</td>\n",
              "      <td>10.0</td>\n",
              "    </tr>\n",
              "    <tr>\n",
              "      <th>156763</th>\n",
              "      <td>192543</td>\n",
              "      <td>fit</td>\n",
              "      <td>123612</td>\n",
              "      <td>36b</td>\n",
              "      <td>127865</td>\n",
              "      <td>155</td>\n",
              "      <td>10.0</td>\n",
              "      <td>wedding</td>\n",
              "      <td>This dress was wonderful! I had originally pla...</td>\n",
              "      <td>athletic</td>\n",
              "      <td>I wore this to a beautiful black tie optional ...</td>\n",
              "      <td>gown</td>\n",
              "      <td>66.0</td>\n",
              "      <td>16</td>\n",
              "      <td>30.0</td>\n",
              "      <td>August 29, 2017</td>\n",
              "      <td>27-31</td>\n",
              "      <td>Highly Positive</td>\n",
              "      <td>10</td>\n",
              "      <td>10.0</td>\n",
              "    </tr>\n",
              "  </tbody>\n",
              "</table>\n",
              "<p>156764 rows × 20 columns</p>\n",
              "</div>"
            ],
            "text/plain": [
              "        Unnamed: 0  fit  ...  sentiment_rating compound_rating\n",
              "0                0  fit  ...                10            10.0\n",
              "1                1  fit  ...                10            10.0\n",
              "2                3  fit  ...                10             9.0\n",
              "3                4  fit  ...                10            10.0\n",
              "4                5  fit  ...                10             9.0\n",
              "...            ...  ...  ...               ...             ...\n",
              "156759      192539  fit  ...                10            10.0\n",
              "156760      192540  fit  ...                10            10.0\n",
              "156761      192541  fit  ...                10             8.0\n",
              "156762      192542  fit  ...                10            10.0\n",
              "156763      192543  fit  ...                10            10.0\n",
              "\n",
              "[156764 rows x 20 columns]"
            ]
          },
          "metadata": {
            "tags": []
          },
          "execution_count": 98
        }
      ]
    },
    {
      "cell_type": "code",
      "metadata": {
        "colab": {
          "base_uri": "https://localhost:8080/",
          "height": 419
        },
        "id": "-jrBFl9CMnwF",
        "outputId": "ac8abe2e-ed1f-485d-fef6-5644b3f41f65"
      },
      "source": [
        "data=data.sample(n=20000)\n",
        "\n",
        "data_clus=data[['user_id','item_id','age','height','weight']]\n",
        "\n",
        "from sklearn.preprocessing import StandardScaler\n",
        "sc=StandardScaler()\n",
        "\n",
        "col_names = data_clus.columns\n",
        "data_clus=sc.fit_transform(data_clus)\n",
        "\n",
        "data_clus=pd.DataFrame(data_clus)\n",
        "data_clus.columns=col_names\n",
        "data_clus"
      ],
      "execution_count": 99,
      "outputs": [
        {
          "output_type": "execute_result",
          "data": {
            "text/html": [
              "<div>\n",
              "<style scoped>\n",
              "    .dataframe tbody tr th:only-of-type {\n",
              "        vertical-align: middle;\n",
              "    }\n",
              "\n",
              "    .dataframe tbody tr th {\n",
              "        vertical-align: top;\n",
              "    }\n",
              "\n",
              "    .dataframe thead th {\n",
              "        text-align: right;\n",
              "    }\n",
              "</style>\n",
              "<table border=\"1\" class=\"dataframe\">\n",
              "  <thead>\n",
              "    <tr style=\"text-align: right;\">\n",
              "      <th></th>\n",
              "      <th>user_id</th>\n",
              "      <th>item_id</th>\n",
              "      <th>age</th>\n",
              "      <th>height</th>\n",
              "      <th>weight</th>\n",
              "    </tr>\n",
              "  </thead>\n",
              "  <tbody>\n",
              "    <tr>\n",
              "      <th>0</th>\n",
              "      <td>-0.328807</td>\n",
              "      <td>-1.103388</td>\n",
              "      <td>-1.275792</td>\n",
              "      <td>0.260476</td>\n",
              "      <td>0.510343</td>\n",
              "    </tr>\n",
              "    <tr>\n",
              "      <th>1</th>\n",
              "      <td>1.057594</td>\n",
              "      <td>1.011139</td>\n",
              "      <td>-0.791550</td>\n",
              "      <td>0.260476</td>\n",
              "      <td>2.700066</td>\n",
              "    </tr>\n",
              "    <tr>\n",
              "      <th>2</th>\n",
              "      <td>0.777884</td>\n",
              "      <td>-0.510726</td>\n",
              "      <td>-1.275792</td>\n",
              "      <td>-0.495075</td>\n",
              "      <td>-1.480315</td>\n",
              "    </tr>\n",
              "    <tr>\n",
              "      <th>3</th>\n",
              "      <td>-0.864474</td>\n",
              "      <td>0.746865</td>\n",
              "      <td>-0.630136</td>\n",
              "      <td>0.638252</td>\n",
              "      <td>-0.405360</td>\n",
              "    </tr>\n",
              "    <tr>\n",
              "      <th>4</th>\n",
              "      <td>-1.425075</td>\n",
              "      <td>-0.708034</td>\n",
              "      <td>1.145418</td>\n",
              "      <td>1.393804</td>\n",
              "      <td>-0.285920</td>\n",
              "    </tr>\n",
              "    <tr>\n",
              "      <th>...</th>\n",
              "      <td>...</td>\n",
              "      <td>...</td>\n",
              "      <td>...</td>\n",
              "      <td>...</td>\n",
              "      <td>...</td>\n",
              "    </tr>\n",
              "    <tr>\n",
              "      <th>19995</th>\n",
              "      <td>1.060424</td>\n",
              "      <td>-0.135369</td>\n",
              "      <td>-0.630136</td>\n",
              "      <td>-0.495075</td>\n",
              "      <td>0.311277</td>\n",
              "    </tr>\n",
              "    <tr>\n",
              "      <th>19996</th>\n",
              "      <td>-1.459507</td>\n",
              "      <td>0.426109</td>\n",
              "      <td>2.275316</td>\n",
              "      <td>0.260476</td>\n",
              "      <td>-1.082183</td>\n",
              "    </tr>\n",
              "    <tr>\n",
              "      <th>19997</th>\n",
              "      <td>-0.557464</td>\n",
              "      <td>0.207847</td>\n",
              "      <td>-0.791550</td>\n",
              "      <td>-0.117299</td>\n",
              "      <td>0.112211</td>\n",
              "    </tr>\n",
              "    <tr>\n",
              "      <th>19998</th>\n",
              "      <td>1.345870</td>\n",
              "      <td>-0.137770</td>\n",
              "      <td>-0.630136</td>\n",
              "      <td>0.638252</td>\n",
              "      <td>0.908474</td>\n",
              "    </tr>\n",
              "    <tr>\n",
              "      <th>19999</th>\n",
              "      <td>-1.029019</td>\n",
              "      <td>-1.043701</td>\n",
              "      <td>1.306832</td>\n",
              "      <td>-0.117299</td>\n",
              "      <td>-0.883117</td>\n",
              "    </tr>\n",
              "  </tbody>\n",
              "</table>\n",
              "<p>20000 rows × 5 columns</p>\n",
              "</div>"
            ],
            "text/plain": [
              "        user_id   item_id       age    height    weight\n",
              "0     -0.328807 -1.103388 -1.275792  0.260476  0.510343\n",
              "1      1.057594  1.011139 -0.791550  0.260476  2.700066\n",
              "2      0.777884 -0.510726 -1.275792 -0.495075 -1.480315\n",
              "3     -0.864474  0.746865 -0.630136  0.638252 -0.405360\n",
              "4     -1.425075 -0.708034  1.145418  1.393804 -0.285920\n",
              "...         ...       ...       ...       ...       ...\n",
              "19995  1.060424 -0.135369 -0.630136 -0.495075  0.311277\n",
              "19996 -1.459507  0.426109  2.275316  0.260476 -1.082183\n",
              "19997 -0.557464  0.207847 -0.791550 -0.117299  0.112211\n",
              "19998  1.345870 -0.137770 -0.630136  0.638252  0.908474\n",
              "19999 -1.029019 -1.043701  1.306832 -0.117299 -0.883117\n",
              "\n",
              "[20000 rows x 5 columns]"
            ]
          },
          "metadata": {
            "tags": []
          },
          "execution_count": 99
        }
      ]
    },
    {
      "cell_type": "code",
      "metadata": {
        "colab": {
          "base_uri": "https://localhost:8080/",
          "height": 295
        },
        "id": "kBvPT7yYMnwG",
        "outputId": "fb906ce8-d9df-473e-f3e7-fcb0144a1466"
      },
      "source": [
        "from sklearn.cluster import KMeans\n",
        "X=data_clus\n",
        "\n",
        "ls=[]\n",
        "for i in range(1,11):\n",
        "    km=KMeans(n_clusters=i)\n",
        "    km.fit(X)\n",
        "    ls.append(km.inertia_)\n",
        "    \n",
        "plt.plot(range(1,11),ls)\n",
        "plt.title('The Elbow Method')\n",
        "plt.xlabel('Number of clusters')\n",
        "plt.ylabel('SSE')\n",
        "plt.show()"
      ],
      "execution_count": 100,
      "outputs": [
        {
          "output_type": "display_data",
          "data": {
            "image/png": "[encoded data removed]",
            "text/plain": [
              "<Figure size 432x288 with 1 Axes>"
            ]
          },
          "metadata": {
            "tags": [],
            "needs_background": "light"
          }
        }
      ]
    },
    {
      "cell_type": "code",
      "metadata": {
        "id": "QFLktIyRMnwG"
      },
      "source": [
        "km=KMeans(n_clusters=5,init='k-means++')\n",
        "y_kmeans=km.fit_predict(X)"
      ],
      "execution_count": 101,
      "outputs": []
    },
    {
      "cell_type": "code",
      "metadata": {
        "colab": {
          "base_uri": "https://localhost:8080/"
        },
        "id": "OnCGTBLhMnwH",
        "outputId": "a6355d7a-7b3b-4f59-fc4f-66a480131221"
      },
      "source": [
        "data['cluster']=y_kmeans\n",
        "data['cluster'].value_counts()"
      ],
      "execution_count": 102,
      "outputs": [
        {
          "output_type": "execute_result",
          "data": {
            "text/plain": [
              "0    4635\n",
              "2    4568\n",
              "4    4070\n",
              "1    3912\n",
              "3    2815\n",
              "Name: cluster, dtype: int64"
            ]
          },
          "metadata": {
            "tags": []
          },
          "execution_count": 102
        }
      ]
    },
    {
      "cell_type": "code",
      "metadata": {
        "id": "IN8YQWZVMnwH"
      },
      "source": [
        "cluster_0=data[data['cluster']==0]\n",
        "cluster_1=data[data['cluster']==1]\n",
        "cluster_2=data[data['cluster']==2]\n",
        "cluster_3=data[data['cluster']==3]\n",
        "cluster_4=data[data['cluster']==4]"
      ],
      "execution_count": 103,
      "outputs": []
    },
    {
      "cell_type": "code",
      "metadata": {
        "id": "HD9yp3i-MnwH"
      },
      "source": [
        "cluster_list=[cluster_0,cluster_1,cluster_2,cluster_3,cluster_4]"
      ],
      "execution_count": 104,
      "outputs": []
    },
    {
      "cell_type": "code",
      "metadata": {
        "colab": {
          "base_uri": "https://localhost:8080/",
          "height": 419
        },
        "id": "DGdYvx7gTr0J",
        "outputId": "2814b5e2-1e9d-4ff5-c1ed-ae9b01ccaf09"
      },
      "source": [
        "cluster_4[['user_id','item_id','rating','sentiment','sentiment_rating','compound_rating','cluster']]"
      ],
      "execution_count": 105,
      "outputs": [
        {
          "output_type": "execute_result",
          "data": {
            "text/html": [
              "<div>\n",
              "<style scoped>\n",
              "    .dataframe tbody tr th:only-of-type {\n",
              "        vertical-align: middle;\n",
              "    }\n",
              "\n",
              "    .dataframe tbody tr th {\n",
              "        vertical-align: top;\n",
              "    }\n",
              "\n",
              "    .dataframe thead th {\n",
              "        text-align: right;\n",
              "    }\n",
              "</style>\n",
              "<table border=\"1\" class=\"dataframe\">\n",
              "  <thead>\n",
              "    <tr style=\"text-align: right;\">\n",
              "      <th></th>\n",
              "      <th>user_id</th>\n",
              "      <th>item_id</th>\n",
              "      <th>rating</th>\n",
              "      <th>sentiment</th>\n",
              "      <th>sentiment_rating</th>\n",
              "      <th>compound_rating</th>\n",
              "      <th>cluster</th>\n",
              "    </tr>\n",
              "  </thead>\n",
              "  <tbody>\n",
              "    <tr>\n",
              "      <th>152277</th>\n",
              "      <td>251483</td>\n",
              "      <td>1652750</td>\n",
              "      <td>10.0</td>\n",
              "      <td>Highly Positive</td>\n",
              "      <td>10</td>\n",
              "      <td>10.0</td>\n",
              "      <td>4</td>\n",
              "    </tr>\n",
              "    <tr>\n",
              "      <th>53755</th>\n",
              "      <td>385244</td>\n",
              "      <td>2508510</td>\n",
              "      <td>10.0</td>\n",
              "      <td>Highly Positive</td>\n",
              "      <td>10</td>\n",
              "      <td>10.0</td>\n",
              "      <td>4</td>\n",
              "    </tr>\n",
              "    <tr>\n",
              "      <th>462</th>\n",
              "      <td>442636</td>\n",
              "      <td>1787191</td>\n",
              "      <td>10.0</td>\n",
              "      <td>Highly Positive</td>\n",
              "      <td>10</td>\n",
              "      <td>10.0</td>\n",
              "      <td>4</td>\n",
              "    </tr>\n",
              "    <tr>\n",
              "      <th>52799</th>\n",
              "      <td>234262</td>\n",
              "      <td>1991314</td>\n",
              "      <td>10.0</td>\n",
              "      <td>Highly Positive</td>\n",
              "      <td>10</td>\n",
              "      <td>10.0</td>\n",
              "      <td>4</td>\n",
              "    </tr>\n",
              "    <tr>\n",
              "      <th>54690</th>\n",
              "      <td>130401</td>\n",
              "      <td>2807362</td>\n",
              "      <td>10.0</td>\n",
              "      <td>Highly Positive</td>\n",
              "      <td>10</td>\n",
              "      <td>10.0</td>\n",
              "      <td>4</td>\n",
              "    </tr>\n",
              "    <tr>\n",
              "      <th>...</th>\n",
              "      <td>...</td>\n",
              "      <td>...</td>\n",
              "      <td>...</td>\n",
              "      <td>...</td>\n",
              "      <td>...</td>\n",
              "      <td>...</td>\n",
              "      <td>...</td>\n",
              "    </tr>\n",
              "    <tr>\n",
              "      <th>55640</th>\n",
              "      <td>105589</td>\n",
              "      <td>1675905</td>\n",
              "      <td>10.0</td>\n",
              "      <td>Highly Positive</td>\n",
              "      <td>10</td>\n",
              "      <td>10.0</td>\n",
              "      <td>4</td>\n",
              "    </tr>\n",
              "    <tr>\n",
              "      <th>41842</th>\n",
              "      <td>688355</td>\n",
              "      <td>2885734</td>\n",
              "      <td>10.0</td>\n",
              "      <td>Highly Positive</td>\n",
              "      <td>10</td>\n",
              "      <td>10.0</td>\n",
              "      <td>4</td>\n",
              "    </tr>\n",
              "    <tr>\n",
              "      <th>105330</th>\n",
              "      <td>228321</td>\n",
              "      <td>1800249</td>\n",
              "      <td>4.0</td>\n",
              "      <td>Negative</td>\n",
              "      <td>4</td>\n",
              "      <td>4.0</td>\n",
              "      <td>4</td>\n",
              "    </tr>\n",
              "    <tr>\n",
              "      <th>68728</th>\n",
              "      <td>689905</td>\n",
              "      <td>1636171</td>\n",
              "      <td>10.0</td>\n",
              "      <td>Highly Positive</td>\n",
              "      <td>10</td>\n",
              "      <td>10.0</td>\n",
              "      <td>4</td>\n",
              "    </tr>\n",
              "    <tr>\n",
              "      <th>117288</th>\n",
              "      <td>391676</td>\n",
              "      <td>2755732</td>\n",
              "      <td>10.0</td>\n",
              "      <td>Highly Positive</td>\n",
              "      <td>10</td>\n",
              "      <td>10.0</td>\n",
              "      <td>4</td>\n",
              "    </tr>\n",
              "  </tbody>\n",
              "</table>\n",
              "<p>4070 rows × 7 columns</p>\n",
              "</div>"
            ],
            "text/plain": [
              "        user_id  item_id  rating  ... sentiment_rating  compound_rating  cluster\n",
              "152277   251483  1652750    10.0  ...               10             10.0        4\n",
              "53755    385244  2508510    10.0  ...               10             10.0        4\n",
              "462      442636  1787191    10.0  ...               10             10.0        4\n",
              "52799    234262  1991314    10.0  ...               10             10.0        4\n",
              "54690    130401  2807362    10.0  ...               10             10.0        4\n",
              "...         ...      ...     ...  ...              ...              ...      ...\n",
              "55640    105589  1675905    10.0  ...               10             10.0        4\n",
              "41842    688355  2885734    10.0  ...               10             10.0        4\n",
              "105330   228321  1800249     4.0  ...                4              4.0        4\n",
              "68728    689905  1636171    10.0  ...               10             10.0        4\n",
              "117288   391676  2755732    10.0  ...               10             10.0        4\n",
              "\n",
              "[4070 rows x 7 columns]"
            ]
          },
          "metadata": {
            "tags": []
          },
          "execution_count": 105
        }
      ]
    },
    {
      "cell_type": "markdown",
      "metadata": {
        "id": "ERqZDZxPLsjU"
      },
      "source": [
        "## 1. Product Popularity based Recommendation System "
      ]
    },
    {
      "cell_type": "markdown",
      "metadata": {
        "id": "JNG6duHlgINp"
      },
      "source": [
        "### 10 most popular items rented for wedding in each customer cluster"
      ]
    },
    {
      "cell_type": "code",
      "metadata": {
        "colab": {
          "base_uri": "https://localhost:8080/"
        },
        "id": "xxN8LZ_X2bEN",
        "outputId": "4fe6ecc2-32dd-458f-85c7-c9ee97754ede"
      },
      "source": [
        "index = 0\n",
        "for cluster in cluster_list:\n",
        "    cluster_wedding=cluster[cluster['rented for']=='wedding']\n",
        "    popular_items = pd.DataFrame(cluster_wedding.groupby('item_id')['rating'].count())\n",
        "    most_popular_items = popular_items.sort_values('rating', ascending=False)\n",
        "    print('The 10 most popular items rented for wedding in ',\"cluster {}\".format(index),'are:')\n",
        "    print(most_popular_items.head(10))\n",
        "    index = index + 1"
      ],
      "execution_count": 106,
      "outputs": [
        {
          "output_type": "stream",
          "text": [
            "The 10 most popular items rented for wedding in  cluster 0 are:\n",
            "         rating\n",
            "item_id        \n",
            "174086       45\n",
            "126335       21\n",
            "136860       21\n",
            "137585       20\n",
            "166633       18\n",
            "127865       17\n",
            "123793       16\n",
            "131117       16\n",
            "125465       14\n",
            "136110       13\n",
            "The 10 most popular items rented for wedding in  cluster 1 are:\n",
            "         rating\n",
            "item_id        \n",
            "174086       31\n",
            "126335       31\n",
            "136110       21\n",
            "136860       20\n",
            "145906       18\n",
            "131533       16\n",
            "132738       15\n",
            "131117       15\n",
            "144051       14\n",
            "130259       12\n",
            "The 10 most popular items rented for wedding in  cluster 2 are:\n",
            "         rating\n",
            "item_id        \n",
            "174086       54\n",
            "137585       30\n",
            "136860       23\n",
            "172027       21\n",
            "131533       21\n",
            "136110       21\n",
            "131117       20\n",
            "127865       20\n",
            "126335       18\n",
            "123793       16\n",
            "The 10 most popular items rented for wedding in  cluster 3 are:\n",
            "         rating\n",
            "item_id        \n",
            "127865       10\n",
            "126335        9\n",
            "168610        6\n",
            "136860        6\n",
            "531077        5\n",
            "1793377       5\n",
            "174086        5\n",
            "1545760       4\n",
            "148089        3\n",
            "1359622       3\n",
            "The 10 most popular items rented for wedding in  cluster 4 are:\n",
            "         rating\n",
            "item_id        \n",
            "1769705      15\n",
            "1920477      15\n",
            "1949394      14\n",
            "1746190      13\n",
            "1992625      13\n",
            "1738544      12\n",
            "1695279      12\n",
            "1697200      12\n",
            "1882156      11\n",
            "1962198      11\n"
          ],
          "name": "stdout"
        }
      ]
    },
    {
      "cell_type": "markdown",
      "metadata": {
        "id": "79ee_LUGgZyK"
      },
      "source": [
        "### 10 most popular items rented for formal affair in each customer cluster"
      ]
    },
    {
      "cell_type": "code",
      "metadata": {
        "colab": {
          "base_uri": "https://localhost:8080/"
        },
        "id": "O3LAqihoHTAv",
        "outputId": "19f4357c-6ac3-4bfc-91e2-c34747f3a0cf"
      },
      "source": [
        "index = 0\n",
        "for cluster in cluster_list:\n",
        "    cluster_formal_affair=cluster[cluster['rented for']=='formal affair']\n",
        "    popular_items = pd.DataFrame(cluster_formal_affair.groupby('item_id')['rating'].count())\n",
        "    most_popular_items = popular_items.sort_values('rating', ascending=False)\n",
        "    print('The 10 most popular items rented for formal affair in ',\"cluster {}\".format(index),'are:')\n",
        "    print(most_popular_items.head(10))\n",
        "    index = index + 1"
      ],
      "execution_count": 107,
      "outputs": [
        {
          "output_type": "stream",
          "text": [
            "The 10 most popular items rented for formal affair in  cluster 0 are:\n",
            "         rating\n",
            "item_id        \n",
            "123793       36\n",
            "145906       31\n",
            "132738       28\n",
            "154002       19\n",
            "125465       18\n",
            "131533       17\n",
            "127865       16\n",
            "126335       15\n",
            "131117       14\n",
            "146684       12\n",
            "The 10 most popular items rented for formal affair in  cluster 1 are:\n",
            "         rating\n",
            "item_id        \n",
            "132738       46\n",
            "126335       31\n",
            "145906       29\n",
            "131117       27\n",
            "142179       20\n",
            "127865       18\n",
            "131533       17\n",
            "123793       16\n",
            "123373       15\n",
            "125465       15\n",
            "The 10 most popular items rented for formal affair in  cluster 2 are:\n",
            "         rating\n",
            "item_id        \n",
            "145906       46\n",
            "123793       43\n",
            "132738       42\n",
            "127865       27\n",
            "144714       21\n",
            "126335       20\n",
            "146684       20\n",
            "131117       20\n",
            "154002       15\n",
            "137585       13\n",
            "The 10 most popular items rented for formal affair in  cluster 3 are:\n",
            "         rating\n",
            "item_id        \n",
            "127865       21\n",
            "125564       16\n",
            "142179       14\n",
            "131533       12\n",
            "144714       11\n",
            "139086       11\n",
            "153475       10\n",
            "123373       10\n",
            "128959        9\n",
            "123793        9\n",
            "The 10 most popular items rented for formal affair in  cluster 4 are:\n",
            "         rating\n",
            "item_id        \n",
            "1729232      12\n",
            "1869763       7\n",
            "1773356       7\n",
            "1687082       6\n",
            "1882156       5\n",
            "1882731       5\n",
            "1869940       5\n",
            "1859039       5\n",
            "1979590       4\n",
            "1626903       4\n"
          ],
          "name": "stdout"
        }
      ]
    },
    {
      "cell_type": "markdown",
      "metadata": {
        "id": "8TYFuDVoMnwE"
      },
      "source": [
        "## 2. Collabrative Filtering based Recommendation System"
      ]
    },
    {
      "cell_type": "markdown",
      "metadata": {
        "id": "01iWzsKqMnwF"
      },
      "source": [
        " ### Model without Compound Rating"
      ]
    },
    {
      "cell_type": "code",
      "metadata": {
        "colab": {
          "base_uri": "https://localhost:8080/"
        },
        "id": "m0jPXRhXQJta",
        "outputId": "873a9fb4-652e-4b99-ddd1-8d9d0642793d"
      },
      "source": [
        "!pip install scikit-surprise"
      ],
      "execution_count": 108,
      "outputs": [
        {
          "output_type": "stream",
          "text": [
            "Requirement already satisfied: scikit-surprise in /usr/local/lib/python3.7/dist-packages (1.1.1)\n",
            "Requirement already satisfied: six>=1.10.0 in /usr/local/lib/python3.7/dist-packages (from scikit-surprise) (1.15.0)\n",
            "Requirement already satisfied: joblib>=0.11 in /usr/local/lib/python3.7/dist-packages (from scikit-surprise) (1.0.1)\n",
            "Requirement already satisfied: scipy>=1.0.0 in /usr/local/lib/python3.7/dist-packages (from scikit-surprise) (1.4.1)\n",
            "Requirement already satisfied: numpy>=1.11.2 in /usr/local/lib/python3.7/dist-packages (from scikit-surprise) (1.19.5)\n"
          ],
          "name": "stdout"
        }
      ]
    },
    {
      "cell_type": "code",
      "metadata": {
        "id": "DaJSi2M71Sqt"
      },
      "source": [
        "from surprise import Dataset\n",
        "from surprise import Reader\n",
        "from surprise import NormalPredictor, SVD, KNNBasic \n",
        "from surprise.model_selection import train_test_split\n",
        "from surprise import accuracy\n"
      ],
      "execution_count": 109,
      "outputs": []
    },
    {
      "cell_type": "code",
      "metadata": {
        "colab": {
          "base_uri": "https://localhost:8080/"
        },
        "id": "flA7a99Z1Um5",
        "outputId": "af5e649b-f344-4bae-d30a-8bb3831dbb7d"
      },
      "source": [
        "index = 0\n",
        "for cluster in cluster_list:\n",
        "  reader = Reader(rating_scale=(0,10))\n",
        "  clusRec = Dataset.load_from_df(cluster[['user_id', 'item_id', 'rating']], reader)\n",
        "  trainset, testset = train_test_split(clusRec, test_size=.25)\n",
        "  \n",
        "  for algorithm in [NormalPredictor(), KNNBasic(), SVD()]:\n",
        "    algorithm.fit(trainset)\n",
        "    predictions = algorithm.test(testset)\n",
        "    print(algorithm)\n",
        "    print('Model accuracy for',\"cluster {}\".format(index),'is: ')\n",
        "    model_accuracy=accuracy.rmse(predictions)\n",
        "    \n",
        "  index = index + 1\n"
      ],
      "execution_count": 110,
      "outputs": [
        {
          "output_type": "stream",
          "text": [
            "<surprise.prediction_algorithms.random_pred.NormalPredictor object at 0x7f79978ed490>\n",
            "Model accuracy for cluster 0 is: \n",
            "RMSE: 1.7858\n",
            "Computing the msd similarity matrix...\n",
            "Done computing similarity matrix.\n",
            "<surprise.prediction_algorithms.knns.KNNBasic object at 0x7f7997914150>\n",
            "Model accuracy for cluster 0 is: \n",
            "RMSE: 1.3784\n",
            "<surprise.prediction_algorithms.matrix_factorization.SVD object at 0x7f7997983750>\n",
            "Model accuracy for cluster 0 is: \n",
            "RMSE: 1.3702\n",
            "<surprise.prediction_algorithms.random_pred.NormalPredictor object at 0x7f7997df0410>\n",
            "Model accuracy for cluster 1 is: \n",
            "RMSE: 1.8941\n",
            "Computing the msd similarity matrix...\n",
            "Done computing similarity matrix.\n",
            "<surprise.prediction_algorithms.knns.KNNBasic object at 0x7f799798aa90>\n",
            "Model accuracy for cluster 1 is: \n",
            "RMSE: 1.5321\n",
            "<surprise.prediction_algorithms.matrix_factorization.SVD object at 0x7f7996bcc750>\n",
            "Model accuracy for cluster 1 is: \n",
            "RMSE: 1.5363\n",
            "<surprise.prediction_algorithms.random_pred.NormalPredictor object at 0x7f799798a810>\n",
            "Model accuracy for cluster 2 is: \n",
            "RMSE: 1.8260\n",
            "Computing the msd similarity matrix...\n",
            "Done computing similarity matrix.\n",
            "<surprise.prediction_algorithms.knns.KNNBasic object at 0x7f7997914150>\n",
            "Model accuracy for cluster 2 is: \n",
            "RMSE: 1.4777\n",
            "<surprise.prediction_algorithms.matrix_factorization.SVD object at 0x7f799797e450>\n",
            "Model accuracy for cluster 2 is: \n",
            "RMSE: 1.4630\n",
            "<surprise.prediction_algorithms.random_pred.NormalPredictor object at 0x7f799798aa90>\n",
            "Model accuracy for cluster 3 is: \n",
            "RMSE: 1.9160\n",
            "Computing the msd similarity matrix...\n",
            "Done computing similarity matrix.\n",
            "<surprise.prediction_algorithms.knns.KNNBasic object at 0x7f7997df0410>\n",
            "Model accuracy for cluster 3 is: \n",
            "RMSE: 1.4342\n",
            "<surprise.prediction_algorithms.matrix_factorization.SVD object at 0x7f7996bccb90>\n",
            "Model accuracy for cluster 3 is: \n",
            "RMSE: 1.4285\n",
            "<surprise.prediction_algorithms.random_pred.NormalPredictor object at 0x7f7997914150>\n",
            "Model accuracy for cluster 4 is: \n",
            "RMSE: 1.8363\n",
            "Computing the msd similarity matrix...\n",
            "Done computing similarity matrix.\n",
            "<surprise.prediction_algorithms.knns.KNNBasic object at 0x7f799798a810>\n",
            "Model accuracy for cluster 4 is: \n",
            "RMSE: 1.4737\n",
            "<surprise.prediction_algorithms.matrix_factorization.SVD object at 0x7f7997983610>\n",
            "Model accuracy for cluster 4 is: \n",
            "RMSE: 1.4542\n"
          ],
          "name": "stdout"
        }
      ]
    },
    {
      "cell_type": "markdown",
      "metadata": {
        "id": "CU_hLRY_56Jl"
      },
      "source": [
        "### Cross Validation"
      ]
    },
    {
      "cell_type": "code",
      "metadata": {
        "id": "vmM0iNsOMnwH"
      },
      "source": [
        "from surprise.model_selection import cross_validate"
      ],
      "execution_count": 111,
      "outputs": []
    },
    {
      "cell_type": "code",
      "metadata": {
        "id": "aM8V2mM7MnwJ"
      },
      "source": [
        "from collections import defaultdict\n",
        "\n",
        "def get_Top_N(predictions, n=10):\n",
        "    top_n = defaultdict(list)\n",
        "    for user_id, item_id, _, estimated_rating, _ in predictions:\n",
        "        top_n[user_id].append((item_id, estimated_rating))\n",
        "\n",
        "    for user_id, user_ratings in top_n.items():\n",
        "        user_ratings.sort(key=lambda x: x[1], reverse=True)\n",
        "        top_n[user_id] = user_ratings[:n]\n",
        "\n",
        "    return top_n"
      ],
      "execution_count": 112,
      "outputs": []
    },
    {
      "cell_type": "code",
      "metadata": {
        "colab": {
          "base_uri": "https://localhost:8080/"
        },
        "id": "hvD9il75qae9",
        "outputId": "c4af195e-a46d-4faf-b077-1b7f21239bb9"
      },
      "source": [
        "index = 0\n",
        "for cluster in cluster_list:\n",
        "  reader = Reader(rating_scale=(0,10))\n",
        "  clusRec = Dataset.load_from_df(cluster[['user_id', 'item_id', 'rating']], reader)\n",
        "  \n",
        "  # Fit\n",
        "  trainset = clusRec.build_full_trainset()\n",
        "  algorithm = SVD()\n",
        "  algorithm.fit(trainset)\n",
        "\n",
        "  # Evaluation and Cross Validation\n",
        "  print(\"Cross Validation for cluster {}\".format(index))\n",
        "  cross_validate(algorithm, clusRec, measures=['RMSE', 'MAE'], cv=5, verbose=True)\n",
        "\n",
        "  # Prediction\n",
        "  testset = trainset.build_anti_testset()\n",
        "  predictions = algorithm.test(testset)\n",
        "\n",
        "  # Top 10 prediction for each user in the cluster\n",
        "  top_n = get_Top_N(predictions, n=10)\n",
        "\n",
        "  df_list = []\n",
        "  for uid, user_ratings in top_n.items():\n",
        "    new_row = [uid]\n",
        "    new_row += [iid for (iid, _) in user_ratings]\n",
        "    df_list.append(new_row)\n",
        "  \n",
        "  result_cluster=pd.DataFrame(df_list)\n",
        "  result_cluster.columns=['user_id',1,2,3,4,5,6,7,8,9,10]\n",
        "  print(\"The Top 10 Product Recommendation of each user in cluster {}\".format(index))\n",
        "  print(result_cluster)\n",
        "\n",
        "  index = index + 1"
      ],
      "execution_count": 113,
      "outputs": [
        {
          "output_type": "stream",
          "text": [
            "Cross Validation for cluster 0\n",
            "Evaluating RMSE, MAE of algorithm SVD on 5 split(s).\n",
            "\n",
            "                  Fold 1  Fold 2  Fold 3  Fold 4  Fold 5  Mean    Std     \n",
            "RMSE (testset)    1.4180  1.3242  1.3713  1.3702  1.4229  1.3814  0.0362  \n",
            "MAE (testset)     1.1391  1.1038  1.1316  1.1338  1.1485  1.1314  0.0150  \n",
            "Fit time          0.27    0.29    0.27    0.27    0.27    0.27    0.01    \n",
            "Test time         0.01    0.01    0.01    0.01    0.01    0.01    0.00    \n",
            "The Top 10 Product Recommendation of each user in cluster 0\n",
            "      user_id        1        2        3  ...        7        8        9       10\n",
            "0      725601   123793   162634   709832  ...   124204   137585   452942  1325648\n",
            "1      810256   123793  1524171   162634  ...   125465   128959  1142945   137585\n",
            "2      710352   123793   124204  1859039  ...  1773535  1093026  1210233   709832\n",
            "3      895454   123793   709832   124204  ...   131533   125465   132135  1210233\n",
            "4      822475   123793   709832   125465  ...   124204   278104   166006   162634\n",
            "...       ...      ...      ...      ...  ...      ...      ...      ...      ...\n",
            "4125   831566  1146287   123793  1226293  ...   128959  1773535  1209909  1210233\n",
            "4126   617540   123793   131533  1662059  ...   671410  1226293   596740  1378631\n",
            "4127   773992   123793  1064397   137585  ...  1210233   870184   693185  1378631\n",
            "4128   797331   123793   162634   709832  ...   724319   125465   144714  1226293\n",
            "4129   854678   131533   123793   162634  ...   424703   870184   989029   709832\n",
            "\n",
            "[4130 rows x 11 columns]\n",
            "Cross Validation for cluster 1\n",
            "Evaluating RMSE, MAE of algorithm SVD on 5 split(s).\n",
            "\n",
            "                  Fold 1  Fold 2  Fold 3  Fold 4  Fold 5  Mean    Std     \n",
            "RMSE (testset)    1.4140  1.4869  1.4541  1.4267  1.4386  1.4441  0.0252  \n",
            "MAE (testset)     1.1842  1.2137  1.2037  1.1958  1.1932  1.1981  0.0100  \n",
            "Fit time          0.22    0.22    0.24    0.24    0.22    0.23    0.01    \n",
            "Test time         0.01    0.01    0.01    0.01    0.01    0.01    0.00    \n",
            "The Top 10 Product Recommendation of each user in cluster 1\n",
            "      user_id        1        2        3  ...        7        8        9       10\n",
            "0      806348   143094   142179   655967  ...  1103425  1220393   616682   391525\n",
            "1      505541   142179   616682   466944  ...   143094   573593  1207541   847550\n",
            "2      700496   142179   143094  1064397  ...   616682   655967  1774524   391525\n",
            "3      430673   142179  1103425   126335  ...  1149283   466603  1828664   730008\n",
            "4      372458   142179   143094   616682  ...  1113191  1774524   466944   139792\n",
            "...       ...      ...      ...      ...  ...      ...      ...      ...      ...\n",
            "3507   580084   142179   143094  1064397  ...   616682   655967  1774524   391525\n",
            "3508   960791  1774524   655967   142179  ...  1317846   143094   545632  1294261\n",
            "3509   163827   143094  1064397   126335  ...  1010926  1875147  1220393  1135080\n",
            "3510   154598   142179   143094  1064397  ...   616682   655967  1774524   391525\n",
            "3511   889568   143094  1103425   544964  ...   583437   616682   139792   142179\n",
            "\n",
            "[3512 rows x 11 columns]\n",
            "Cross Validation for cluster 2\n",
            "Evaluating RMSE, MAE of algorithm SVD on 5 split(s).\n",
            "\n",
            "                  Fold 1  Fold 2  Fold 3  Fold 4  Fold 5  Mean    Std     \n",
            "RMSE (testset)    1.4791  1.4002  1.3922  1.3485  1.3238  1.3888  0.0532  \n",
            "MAE (testset)     1.1421  1.1377  1.1109  1.0956  1.0800  1.1133  0.0239  \n",
            "Fit time          0.27    0.27    0.29    0.27    0.27    0.27    0.01    \n",
            "Test time         0.01    0.01    0.01    0.01    0.01    0.01    0.00    \n",
            "The Top 10 Product Recommendation of each user in cluster 2\n",
            "      user_id       1       2        3  ...       7        8       9      10\n",
            "0      406120  131533  127865   123793  ...  160612   432275  755371  416213\n",
            "1       89648  131533  127865   123793  ...  160612   432275  755371  416213\n",
            "2      162520  131533  127865   123793  ...  160612   432275  755371  416213\n",
            "3      231271  131533  127865   123793  ...  160612   432275  755371  416213\n",
            "4      121049  131533  127865   123793  ...  160612   432275  755371  416213\n",
            "...       ...     ...     ...      ...  ...     ...      ...     ...     ...\n",
            "4068   403439  131533  127865   450618  ...  141688   432275  148690  432268\n",
            "4069    17349  127865  131533   432275  ...  946530   999837  155735  416213\n",
            "4070   124664  131533  127865   123793  ...  160612   432275  755371  416213\n",
            "4071    14335  131533  123793  1064397  ...  137585  1285684  127865  721424\n",
            "4072   340111  131533  127865   123793  ...  160612   432275  755371  416213\n",
            "\n",
            "[4073 rows x 11 columns]\n",
            "Cross Validation for cluster 3\n",
            "Evaluating RMSE, MAE of algorithm SVD on 5 split(s).\n",
            "\n",
            "                  Fold 1  Fold 2  Fold 3  Fold 4  Fold 5  Mean    Std     \n",
            "RMSE (testset)    1.5749  1.4595  1.4959  1.5045  1.4076  1.4885  0.0551  \n",
            "MAE (testset)     1.2296  1.1925  1.2046  1.2194  1.1898  1.2072  0.0153  \n",
            "Fit time          0.17    0.17    0.17    0.18    0.17    0.17    0.00    \n",
            "Test time         0.00    0.00    0.00    0.01    0.01    0.00    0.00    \n",
            "The Top 10 Product Recommendation of each user in cluster 3\n",
            "      user_id        1        2        3  ...        7        8        9       10\n",
            "0      522935   339498   123793   132738  ...   160612  1260666   139086   171284\n",
            "1      436209   149739   152662   139086  ...  1954806  1296364   774379  1689782\n",
            "2       13468  1241304   858828   127865  ...   603369   484069  1121351   987569\n",
            "3      705935   130727   127865  1609392  ...  1863819   858828   155820   175496\n",
            "4       17680   123793  1278211  1744232  ...   132738  1607671  1241304  2367913\n",
            "...       ...      ...      ...      ...  ...      ...      ...      ...      ...\n",
            "2318   674939  1278211   123793   155820  ...  2564045  1260666   132738  1967750\n",
            "2319   901004   123793   127865   149739  ...   132738   144585   160612   858828\n",
            "2320   570542   123793   127865   149739  ...   132738   144585   160612   858828\n",
            "2321    79708   858828   149739   127865  ...  1133906  1770781   152510  1310462\n",
            "2322   203982   123793   132738   131117  ...  1278211   865225  1241304  1793377\n",
            "\n",
            "[2323 rows x 11 columns]\n",
            "Cross Validation for cluster 4\n",
            "Evaluating RMSE, MAE of algorithm SVD on 5 split(s).\n",
            "\n",
            "                  Fold 1  Fold 2  Fold 3  Fold 4  Fold 5  Mean    Std     \n",
            "RMSE (testset)    1.4967  1.4351  1.4413  1.5556  1.4675  1.4792  0.0439  \n",
            "MAE (testset)     1.2098  1.1655  1.1913  1.2366  1.1947  1.1996  0.0234  \n",
            "Fit time          0.25    0.26    0.24    0.25    0.24    0.25    0.01    \n",
            "Test time         0.01    0.01    0.01    0.01    0.01    0.01    0.00    \n",
            "The Top 10 Product Recommendation of each user in cluster 4\n",
            "      user_id        1        2        3  ...        7        8        9       10\n",
            "0      251483  1738544  1675905  1676837  ...  1793377  1936497  1831026  2829293\n",
            "1      385244  1738544  1769937  1746190  ...  2829293  1831026  1833941  2063202\n",
            "2      442636  1738544  1882156  1869763  ...  2530612  1834223  1766932  2793818\n",
            "3      234262  1793377  2531779  1692512  ...  1897655  1676837  2291737  2041194\n",
            "4      130401  1793377  1882156  2829293  ...  2530612  1831026  2180197  1676837\n",
            "...       ...      ...      ...      ...  ...      ...      ...      ...      ...\n",
            "3480    77241  1738544  1676837  1793377  ...  1979624  2510283  1621234  2900227\n",
            "3481   105589  1793377  1833941  1882156  ...  1831026  2531779  2829293  2628747\n",
            "3482   688355  1738544  2877562  2829293  ...  1728908  1875147  2771196  2063202\n",
            "3483   228321  2531779  1882156  2075137  ...  2530612  1831026  1530271  2063202\n",
            "3484   689905  1793377  1738544  2530612  ...  2829293  2063202  1831026  2080312\n",
            "\n",
            "[3485 rows x 11 columns]\n"
          ],
          "name": "stdout"
        }
      ]
    },
    {
      "cell_type": "markdown",
      "metadata": {
        "id": "g3I9vu-rMnwK"
      },
      "source": [
        "### Model with Compound Rating"
      ]
    },
    {
      "cell_type": "code",
      "metadata": {
        "colab": {
          "base_uri": "https://localhost:8080/"
        },
        "id": "vkM-Vlxe7Brs",
        "outputId": "f35135ca-f189-49da-e0f7-57a01e50a07d"
      },
      "source": [
        "index = 0\n",
        "for cluster in cluster_list:\n",
        "  reader = Reader(rating_scale=(0,10))\n",
        "  clusRec = Dataset.load_from_df(cluster[['user_id', 'item_id', 'compound_rating']], reader)\n",
        "  trainset, testset = train_test_split(clusRec, test_size=.25)\n",
        "  \n",
        "  for algorithm in [NormalPredictor(), KNNBasic(), SVD()]:\n",
        "    algorithm.fit(trainset)\n",
        "    predictions = algorithm.test(testset)\n",
        "    print(algorithm)\n",
        "    print('Model accuracy for',\"cluster {}\".format(index),'is: ')\n",
        "    model_accuracy=accuracy.rmse(predictions)\n",
        "    \n",
        "  index = index + 1"
      ],
      "execution_count": 114,
      "outputs": [
        {
          "output_type": "stream",
          "text": [
            "<surprise.prediction_algorithms.random_pred.NormalPredictor object at 0x7f7997945c90>\n",
            "Model accuracy for cluster 0 is: \n",
            "RMSE: 1.3123\n",
            "Computing the msd similarity matrix...\n",
            "Done computing similarity matrix.\n",
            "<surprise.prediction_algorithms.knns.KNNBasic object at 0x7f7996bce410>\n",
            "Model accuracy for cluster 0 is: \n",
            "RMSE: 0.9572\n",
            "<surprise.prediction_algorithms.matrix_factorization.SVD object at 0x7f7996bdebd0>\n",
            "Model accuracy for cluster 0 is: \n",
            "RMSE: 0.9535\n",
            "<surprise.prediction_algorithms.random_pred.NormalPredictor object at 0x7f799798a810>\n",
            "Model accuracy for cluster 1 is: \n",
            "RMSE: 1.3613\n",
            "Computing the msd similarity matrix...\n",
            "Done computing similarity matrix.\n",
            "<surprise.prediction_algorithms.knns.KNNBasic object at 0x7f7997981c90>\n",
            "Model accuracy for cluster 1 is: \n",
            "RMSE: 1.0035\n",
            "<surprise.prediction_algorithms.matrix_factorization.SVD object at 0x7f799791be10>\n",
            "Model accuracy for cluster 1 is: \n",
            "RMSE: 1.0105\n",
            "<surprise.prediction_algorithms.random_pred.NormalPredictor object at 0x7f7996bd7f50>\n",
            "Model accuracy for cluster 2 is: \n",
            "RMSE: 1.2704\n",
            "Computing the msd similarity matrix...\n",
            "Done computing similarity matrix.\n",
            "<surprise.prediction_algorithms.knns.KNNBasic object at 0x7f79979430d0>\n",
            "Model accuracy for cluster 2 is: \n",
            "RMSE: 0.9950\n",
            "<surprise.prediction_algorithms.matrix_factorization.SVD object at 0x7f799791c490>\n",
            "Model accuracy for cluster 2 is: \n",
            "RMSE: 1.0000\n",
            "<surprise.prediction_algorithms.random_pred.NormalPredictor object at 0x7f799791aa90>\n",
            "Model accuracy for cluster 3 is: \n",
            "RMSE: 1.4339\n",
            "Computing the msd similarity matrix...\n",
            "Done computing similarity matrix.\n",
            "<surprise.prediction_algorithms.knns.KNNBasic object at 0x7f799791ad90>\n",
            "Model accuracy for cluster 3 is: \n",
            "RMSE: 1.1539\n",
            "<surprise.prediction_algorithms.matrix_factorization.SVD object at 0x7f799791af10>\n",
            "Model accuracy for cluster 3 is: \n",
            "RMSE: 1.1554\n",
            "<surprise.prediction_algorithms.random_pred.NormalPredictor object at 0x7f79979430d0>\n",
            "Model accuracy for cluster 4 is: \n",
            "RMSE: 1.4588\n",
            "Computing the msd similarity matrix...\n",
            "Done computing similarity matrix.\n",
            "<surprise.prediction_algorithms.knns.KNNBasic object at 0x7f7996bd7f50>\n",
            "Model accuracy for cluster 4 is: \n",
            "RMSE: 1.1831\n",
            "<surprise.prediction_algorithms.matrix_factorization.SVD object at 0x7f7996bcf2d0>\n",
            "Model accuracy for cluster 4 is: \n",
            "RMSE: 1.1752\n"
          ],
          "name": "stdout"
        }
      ]
    },
    {
      "cell_type": "code",
      "metadata": {
        "colab": {
          "base_uri": "https://localhost:8080/"
        },
        "id": "p90gMJGT-r-O",
        "outputId": "ac28721c-e6c3-4e58-f07a-177061b06dbf"
      },
      "source": [
        "index = 0\n",
        "for cluster in cluster_list:\n",
        "  reader = Reader(rating_scale=(0,10))\n",
        "  clusRec = Dataset.load_from_df(cluster[['user_id', 'item_id', 'compound_rating']], reader)\n",
        "  \n",
        "  # Fit\n",
        "  trainset = clusRec.build_full_trainset()\n",
        "  algorithm = SVD()\n",
        "  algorithm.fit(trainset)\n",
        "\n",
        "  # Evaluation and Cross Validation\n",
        "  print(\"Cross Validation for cluster {}\".format(index))\n",
        "  cross_validate(algorithm, clusRec, measures=['RMSE', 'MAE'], cv=5, verbose=True)\n",
        "\n",
        "  # Prediction\n",
        "  testset = trainset.build_anti_testset()\n",
        "  predictions = algorithm.test(testset)\n",
        "\n",
        "  # Top 10 prediction for each user in the cluster\n",
        "  top_n = get_Top_N(predictions, n=10)\n",
        "\n",
        "  df_list = []\n",
        "  for uid, user_ratings in top_n.items():\n",
        "    new_row = [uid]\n",
        "    new_row += [iid for (iid, _) in user_ratings]\n",
        "    df_list.append(new_row)\n",
        "  \n",
        "  result_cluster=pd.DataFrame(df_list)\n",
        "  result_cluster.columns=['user_id',1,2,3,4,5,6,7,8,9,10]\n",
        "  print(\"The Top 10 Product Recommendation of each user in cluster {}\".format(index))\n",
        "  print(result_cluster)\n",
        "\n",
        "  index = index + 1"
      ],
      "execution_count": 115,
      "outputs": [
        {
          "output_type": "stream",
          "text": [
            "Cross Validation for cluster 0\n",
            "Evaluating RMSE, MAE of algorithm SVD on 5 split(s).\n",
            "\n",
            "                  Fold 1  Fold 2  Fold 3  Fold 4  Fold 5  Mean    Std     \n",
            "RMSE (testset)    1.0458  1.0411  1.0093  1.0108  0.9933  1.0200  0.0201  \n",
            "MAE (testset)     0.7372  0.7302  0.7148  0.7108  0.7125  0.7211  0.0106  \n",
            "Fit time          0.29    0.28    0.29    0.28    0.27    0.28    0.01    \n",
            "Test time         0.01    0.01    0.01    0.01    0.01    0.01    0.00    \n",
            "The Top 10 Product Recommendation of each user in cluster 0\n",
            "      user_id        1        2        3  ...        7        8        9       10\n",
            "0      725601   124204   123793  1064397  ...   522755   870184   675714   138431\n",
            "1      810256   709832   138431   755371  ...  1487957   427952  1630499  1390469\n",
            "2      710352   755371  1859039  1064397  ...   833666   859889   675714   124204\n",
            "3      895454   125465   138431   124204  ...   915043  1334728   123793   432275\n",
            "4      822475   123793  1213752   124204  ...   128959   131533   168012   522755\n",
            "...       ...      ...      ...      ...  ...      ...      ...      ...      ...\n",
            "4125   831566  1064397   128730   138431  ...   123793  1126394   128959  1463604\n",
            "4126   617540   128959   709832   123793  ...   125465  1210233   131533   138431\n",
            "4127   773992   131533   128959   755371  ...   125465   617013   128730   168610\n",
            "4128   797331   125465   132135   131533  ...   576743   737598  1647277   945880\n",
            "4129   854678   124204   123793   125465  ...   167112  1147844   132135   797218\n",
            "\n",
            "[4130 rows x 11 columns]\n",
            "Cross Validation for cluster 1\n",
            "Evaluating RMSE, MAE of algorithm SVD on 5 split(s).\n",
            "\n",
            "                  Fold 1  Fold 2  Fold 3  Fold 4  Fold 5  Mean    Std     \n",
            "RMSE (testset)    1.0999  1.0865  1.0638  1.0833  1.0889  1.0845  0.0118  \n",
            "MAE (testset)     0.7717  0.7699  0.7686  0.7733  0.7437  0.7655  0.0110  \n",
            "Fit time          0.26    0.26    0.30    0.26    0.25    0.27    0.02    \n",
            "Test time         0.01    0.01    0.01    0.01    0.01    0.01    0.00    \n",
            "The Top 10 Product Recommendation of each user in cluster 1\n",
            "      user_id        1        2        3  ...        7        8        9       10\n",
            "0      806348   127865  1172052   145906  ...   154002   545632  1064397   168592\n",
            "1      505541  1678888  1274400  1889597  ...   127081   619157  1243365   545632\n",
            "2      700496  1920477   335248   123793  ...   309634  1103425   226529   466944\n",
            "3      430673   694477   127865  2521310  ...  1126889   181453  1339136   188052\n",
            "4      372458   154002  1678888  1172052  ...  1746190   153475   199231  1126889\n",
            "...       ...      ...      ...      ...  ...      ...      ...      ...      ...\n",
            "3507   580084   145906   127865   154002  ...   545632  1426525   153475   405907\n",
            "3508   960791  1800440   545632  1172052  ...   147594  1126889   172914   132135\n",
            "3509   163827   132738  1496586   154002  ...   147594  1718885   826125   188052\n",
            "3510   154598   127865   653960   123793  ...  1064397   191243  1240309  1800440\n",
            "3511   889568   127865   671761   618661  ...  1883531  2004376  1920477   300980\n",
            "\n",
            "[3512 rows x 11 columns]\n",
            "Cross Validation for cluster 2\n",
            "Evaluating RMSE, MAE of algorithm SVD on 5 split(s).\n",
            "\n",
            "                  Fold 1  Fold 2  Fold 3  Fold 4  Fold 5  Mean    Std     \n",
            "RMSE (testset)    1.1061  1.0107  1.0373  1.0304  1.0899  1.0549  0.0367  \n",
            "MAE (testset)     0.7579  0.7114  0.7238  0.7202  0.7264  0.7279  0.0158  \n",
            "Fit time          0.27    0.30    0.27    0.30    0.28    0.28    0.01    \n",
            "Test time         0.01    0.01    0.01    0.01    0.01    0.01    0.00    \n",
            "The Top 10 Product Recommendation of each user in cluster 2\n",
            "      user_id        1       2        3  ...        7       8        9       10\n",
            "0      406120   127865  466944   131533  ...  1693615  432275  1409027   987052\n",
            "1       89648   134393  123793  1213427  ...   126335  946530  1018841   661589\n",
            "2      162520   823534  127865   657626  ...   890500  131533  1285647   432275\n",
            "3      231271   131533  124204  1045120  ...   127865  721424  1259708   145417\n",
            "4      121049   131533  127865   124204  ...  1064397  450618   144051  1213427\n",
            "...       ...      ...     ...      ...  ...      ...     ...      ...      ...\n",
            "4068   403439   131533  127865   124204  ...  1064397  450618   144051  1213427\n",
            "4069    17349  1094009  131533   946530  ...  1309537  555308   987052   712527\n",
            "4070   124664   131533  127865   124204  ...  1064397  450618   144051  1213427\n",
            "4071    14335   131533  982621  1382388  ...   123793  134393  1110122   141688\n",
            "4072   340111   131533  127865   124204  ...  1064397  450618   144051   755371\n",
            "\n",
            "[4073 rows x 11 columns]\n",
            "Cross Validation for cluster 3\n",
            "Evaluating RMSE, MAE of algorithm SVD on 5 split(s).\n",
            "\n",
            "                  Fold 1  Fold 2  Fold 3  Fold 4  Fold 5  Mean    Std     \n",
            "RMSE (testset)    1.1834  1.2622  1.0333  1.1391  1.2372  1.1710  0.0810  \n",
            "MAE (testset)     0.8258  0.8519  0.7463  0.8159  0.8496  0.8179  0.0383  \n",
            "Fit time          0.18    0.19    0.18    0.19    0.18    0.18    0.00    \n",
            "Test time         0.00    0.01    0.00    0.00    0.00    0.01    0.00    \n",
            "The Top 10 Product Recommendation of each user in cluster 3\n",
            "      user_id        1        2        3  ...        7        8        9       10\n",
            "0      522935   155820   130727  1730006  ...  1605589  1517307  1241304   132738\n",
            "1      436209   127865   130727   132738  ...   123793  1793377   155820   160612\n",
            "2       13468   127865   871172   166006  ...  1424454  1454374   139792   124204\n",
            "3      705935  1278211   125564   124204  ...  1366530  2490518   876938  1793377\n",
            "4       17680  1813420   127865   124204  ...   136110  1178721   987569   559634\n",
            "...       ...      ...      ...      ...  ...      ...      ...      ...      ...\n",
            "2318   674939   876938   152662   160612  ...   136110   129831  1499974  1057930\n",
            "2319   901004   130727  1278211   172027  ...   263699   721424   125564   199457\n",
            "2320   570542   755371   123793  1109803  ...   130727   678415  1383415   162634\n",
            "2321    79708  1793377  1241304   127865  ...   127495   974504  1171343   999526\n",
            "2322   203982   127865   130727   132738  ...   123793  1793377   155820   160612\n",
            "\n",
            "[2323 rows x 11 columns]\n",
            "Cross Validation for cluster 4\n",
            "Evaluating RMSE, MAE of algorithm SVD on 5 split(s).\n",
            "\n",
            "                  Fold 1  Fold 2  Fold 3  Fold 4  Fold 5  Mean    Std     \n",
            "RMSE (testset)    1.1384  1.1411  1.1303  1.1045  1.2463  1.1521  0.0488  \n",
            "MAE (testset)     0.8001  0.8017  0.8029  0.7849  0.8328  0.8045  0.0156  \n",
            "Fit time          0.26    0.26    0.26    0.27    0.25    0.26    0.01    \n",
            "Test time         0.01    0.01    0.01    0.01    0.01    0.01    0.00    \n",
            "The Top 10 Product Recommendation of each user in cluster 4\n",
            "      user_id        1        2        3  ...        7        8        9       10\n",
            "0      251483  1982685  2337876  2063202  ...  2075137  2281848  1981289  1744232\n",
            "1      385244  1523882  1882731  1981289  ...  1610867  1882156  1750582  2064568\n",
            "2      442636  1793377  1882156  1939936  ...  1692683  2877562  2397911  1769705\n",
            "3      234262  1787191  1793377  2620667  ...  1710886  1378631  1875147  1638869\n",
            "4      130401  1793377  1547971  1746190  ...  2755189  1882156  1731468  1662059\n",
            "...       ...      ...      ...      ...  ...      ...      ...      ...      ...\n",
            "3480    77241  1793377  1882156  2063202  ...  2931769  1875147  1523882  2769473\n",
            "3481   105589  1882156  1800907  1793377  ...  1929594  1547971  1740231  2541115\n",
            "3482   688355  1793377  2360471  1880689  ...  1501987  1547971  1220393  1766932\n",
            "3483   228321  2872227  2877562  1875147  ...  1882156  1787191  2821340  1793377\n",
            "3484   689905  1769937  1882731  1916904  ...  1600987  2052790  1463543  1662059\n",
            "\n",
            "[3485 rows x 11 columns]\n"
          ],
          "name": "stdout"
        }
      ]
    },
    {
      "cell_type": "code",
      "metadata": {
        "colab": {
          "base_uri": "https://localhost:8080/"
        },
        "id": "PBrXZel9kayx",
        "outputId": "723b2f44-ad49-4de8-f18a-72286aea3214"
      },
      "source": [
        "cluster_4['user_id'].value_counts()"
      ],
      "execution_count": 116,
      "outputs": [
        {
          "output_type": "execute_result",
          "data": {
            "text/plain": [
              "691468    19\n",
              "45337     18\n",
              "362951    14\n",
              "32925     11\n",
              "733207     7\n",
              "          ..\n",
              "19365      1\n",
              "445695     1\n",
              "705803     1\n",
              "919983     1\n",
              "180224     1\n",
              "Name: user_id, Length: 3485, dtype: int64"
            ]
          },
          "metadata": {
            "tags": []
          },
          "execution_count": 116
        }
      ]
    }
  ]
}